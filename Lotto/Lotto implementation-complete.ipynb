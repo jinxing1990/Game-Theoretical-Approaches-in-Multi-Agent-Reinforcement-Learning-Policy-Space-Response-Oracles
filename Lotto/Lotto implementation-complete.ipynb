{
 "cells": [
  {
   "cell_type": "markdown",
   "metadata": {},
   "source": [
    "# Differentiable Lotto Implementation\n",
    "(based on the \"Open-ended Learning in Symmetric Zero-sum Games\" paper)"
   ]
  },
  {
   "cell_type": "markdown",
   "metadata": {},
   "source": [
    "## 1. Introduction\n",
    "\n",
    "\n",
    "**Differentiable Lotto** is inspired by continuous Lotto (Hart, S. Discrete Colonel Blotto and General Lotto games. Int J Game Theory, 36:441–460, 2008.). The game is defined over a fixed set $C$ of $c$ 'customers', each being a point in $\\mathbb{R}^2$. An agent’s strategy $(p, v) = \\{(p_1,v_1), ... , (p_k,v_k)\\}$, distributes one unit of mass over $k$ servers, where each server is a point $v_i \\in \\mathbb{R}^2$. Roughly, given the strategies of two players, $(p,v)$, $(q,w)$, customers are softly assigned to the nearest servers, determining the agents’ payoffs.\n",
    "\n",
    "More formally, the payoff is\n",
    "\n",
    "$$\n",
    "\\phi((p,v), (q,w)) := \\sum_{i,j=1}^{c,k} (p_j v_{ij} - q_j w_{ij}),$$\n",
    "\n",
    "where the scalars $v_{ij}$ and $w_{ij}$ depend on the distance between customer $i$ and the servers:\n",
    "\n",
    "$$(v_{i1}, ... , w_{ik}) := softmax(-||c_i - v_1||^2, ... , -||c_i - w_k||^2),$$\n",
    "\n",
    "where $c_i$ is the coordinate of customer $i$.\n",
    "\n",
    "The width of a cloud of points is the expected distance from the barycenter. We impose agents to have width equal one. We use gradient ascent as our oracle.\n",
    "\n",
    "For this implmentation,\n",
    "\n",
    "- $c = 9$ customers chosen uniformly at random in the square $[-1,1]^2$\n",
    "- $k = 2$ servers\n",
    "- $n = 500$ games"
   ]
  },
  {
   "cell_type": "markdown",
   "metadata": {},
   "source": [
    "## 2. Code Implementation of the game"
   ]
  },
  {
   "cell_type": "markdown",
   "metadata": {},
   "source": [
    "### 2.0 Importing all necessary packages"
   ]
  },
  {
   "cell_type": "code",
   "execution_count": 1,
   "metadata": {},
   "outputs": [],
   "source": [
    "import numpy as np\n",
    "from random import randint\n",
    "from scipy.optimize import linprog\n",
    "import pickle\n",
    "import matplotlib\n",
    "import matplotlib.pyplot as plt"
   ]
  },
  {
   "cell_type": "markdown",
   "metadata": {},
   "source": [
    "----------------"
   ]
  },
  {
   "cell_type": "markdown",
   "metadata": {},
   "source": [
    "### 2.1 Initialization of initial strategies and fixed c customers"
   ]
  },
  {
   "cell_type": "markdown",
   "metadata": {},
   "source": [
    "*random_point(lb = -1, ub = 1, n = 2)*:\n",
    "- Input: Lower bound (lb), upper bound (ub) of each coordinate in $\\mathbb{R}^n$ space\n",
    "- Output: random point within the space"
   ]
  },
  {
   "cell_type": "code",
   "execution_count": 2,
   "metadata": {},
   "outputs": [],
   "source": [
    "def random_point(lb = -1, ub = 1, n = 2):\n",
    "    point = np.zeros((n,))\n",
    "    for i in range(n):\n",
    "        point[i] = np.random.uniform(lb, ub)\n",
    "    return point"
   ]
  },
  {
   "cell_type": "code",
   "execution_count": 3,
   "metadata": {},
   "outputs": [
    {
     "data": {
      "text/plain": [
       "array([-0.53919907, -0.17009413])"
      ]
     },
     "execution_count": 3,
     "metadata": {},
     "output_type": "execute_result"
    }
   ],
   "source": [
    "random_point()"
   ]
  },
  {
   "cell_type": "markdown",
   "metadata": {},
   "source": [
    "*random_points_list(lb = -1, ub = 1, n = 2, k = 2)*:\n",
    "- Input: $k$ number of points with lower bound (lb), upper bound (ub) of each coordinate in $\\mathbb{R}^n$ space\n",
    "- Output: list of $k$ random points within the space"
   ]
  },
  {
   "cell_type": "code",
   "execution_count": 4,
   "metadata": {},
   "outputs": [],
   "source": [
    "def random_points_list(lb = -1, ub = 1, n = 2, k = 9):\n",
    "    points_list = []\n",
    "    for i in range(k):\n",
    "        points_list.append(random_point(lb,ub,n))\n",
    "    points_list = np.asarray(points_list)\n",
    "    return points_list"
   ]
  },
  {
   "cell_type": "code",
   "execution_count": 5,
   "metadata": {},
   "outputs": [
    {
     "data": {
      "text/plain": [
       "array([[ 0.91006997,  0.39798922],\n",
       "       [ 0.44573214,  0.97428297],\n",
       "       [-0.91783279, -0.40232876],\n",
       "       [-0.21621169,  0.17056842],\n",
       "       [ 0.94935523, -0.96998382],\n",
       "       [ 0.83829251,  0.86189049],\n",
       "       [-0.60552187, -0.09345452],\n",
       "       [-0.18799115, -0.82412405],\n",
       "       [-0.25133223,  0.32359856]])"
      ]
     },
     "execution_count": 5,
     "metadata": {},
     "output_type": "execute_result"
    }
   ],
   "source": [
    "random_points_list(k=9)"
   ]
  },
  {
   "cell_type": "markdown",
   "metadata": {},
   "source": [
    "*prob_dist(k = 2)*:\n",
    "- Input: $k$\n",
    "- Output: $k$ numbers that sum up to 1"
   ]
  },
  {
   "cell_type": "code",
   "execution_count": 6,
   "metadata": {},
   "outputs": [],
   "source": [
    "def prob_dist(k = 3):\n",
    "    pd = np.random.uniform(0,1,k)\n",
    "    total = np.sum(pd)\n",
    "    pd = pd/total\n",
    "    return pd.reshape(-1,1)"
   ]
  },
  {
   "cell_type": "code",
   "execution_count": 7,
   "metadata": {},
   "outputs": [
    {
     "data": {
      "text/plain": [
       "array([[0.59733992],\n",
       "       [0.38108465],\n",
       "       [0.02157543]])"
      ]
     },
     "execution_count": 7,
     "metadata": {},
     "output_type": "execute_result"
    }
   ],
   "source": [
    "prob_dist(k=3)"
   ]
  },
  {
   "cell_type": "markdown",
   "metadata": {},
   "source": [
    "*initialise_strategy(lb = -1, ub = 1, n = 2, k = 2)*:\n",
    "- Input: $k$ number of points with lower bound (lb), upper bound (ub) of each coordinate in $\\mathbb{R}^n$ space\n",
    "- Output: p_vector (distribution of k points) and v_vector (k points in $\\mathbb{R}^n$)"
   ]
  },
  {
   "cell_type": "code",
   "execution_count": 8,
   "metadata": {},
   "outputs": [],
   "source": [
    "def initialise_strategy(lb = -1, ub = 1, n = 2, k = 3):\n",
    "    v_vector = random_points_list(lb, ub, n, k)\n",
    "    p_vector = prob_dist(k)\n",
    "    return [p_vector, v_vector]"
   ]
  },
  {
   "cell_type": "code",
   "execution_count": 9,
   "metadata": {},
   "outputs": [
    {
     "data": {
      "text/plain": [
       "[array([[0.13891189],\n",
       "        [0.65755772],\n",
       "        [0.20353038]]), array([[-0.5430657 , -0.7092135 ],\n",
       "        [ 0.83741406, -0.31068323],\n",
       "        [ 0.28318658,  0.48041206]])]"
      ]
     },
     "execution_count": 9,
     "metadata": {},
     "output_type": "execute_result"
    }
   ],
   "source": [
    "initialise_strategy(lb = -1, ub = 1, n = 2, k = 3)"
   ]
  },
  {
   "cell_type": "markdown",
   "metadata": {},
   "source": [
    "Take for example: Generate 2 players' strategies: (p,v) and (q,w) with k = 2 servers each. c = 9 Customers in $[-1,1]^2$ space"
   ]
  },
  {
   "cell_type": "code",
   "execution_count": 10,
   "metadata": {
    "scrolled": false
   },
   "outputs": [
    {
     "name": "stdout",
     "output_type": "stream",
     "text": [
      "Player's strategies distribution: [[0.20601975]\n",
      " [0.79398025]] with servers at [[ 0.82173541  0.19683135]\n",
      " [-0.86356042  0.49974125]].\n",
      "The customers are located at [[ 0.61991361  0.41564386]\n",
      " [ 0.41347701  0.69279295]\n",
      " [ 0.14948296  0.28020492]\n",
      " [-0.94489617 -0.05479803]\n",
      " [ 0.05892316  0.18230907]\n",
      " [-0.73431443  0.65519861]\n",
      " [-0.87422808  0.91122853]\n",
      " [-0.10962088 -0.65909204]\n",
      " [ 0.87041406 -0.43653915]].\n"
     ]
    }
   ],
   "source": [
    "[p,v] = initialise_strategy(lb = -1, ub = 1, n = 2, k = 2)\n",
    "C = random_points_list(lb=-1, ub=1, n=2, k = 9)\n",
    "print(\"Player's strategies distribution: \" + np.array2string(p) + \" with servers at \" + np.array2string(v) + \".\")\n",
    "print(\"The customers are located at \" + np.array2string(C) + \".\")"
   ]
  },
  {
   "cell_type": "markdown",
   "metadata": {},
   "source": [
    "------------------"
   ]
  },
  {
   "cell_type": "markdown",
   "metadata": {},
   "source": [
    "### 2.2 Necessary functions for PSRO algorithm"
   ]
  },
  {
   "cell_type": "markdown",
   "metadata": {},
   "source": [
    "*Nash_eq(A)*:\n",
    "- Input: matrix A of a population\n",
    "- Output: Nash equilibrium p"
   ]
  },
  {
   "cell_type": "code",
   "execution_count": 11,
   "metadata": {},
   "outputs": [],
   "source": [
    "def Nash_eq(A):\n",
    "    '''Input: matrix A of a population\n",
    "       Output: Nash equilibrium\n",
    "       Note that A need to be antisymmetric for this function to generate the right Nash p'''\n",
    "    n = A.shape[0]\n",
    "    A_ub = -A.T\n",
    "    b_ub = np.zeros((n,))\n",
    "    A_eq = np.ones((1,n))\n",
    "    b_eq = 1\n",
    "    soln = linprog(c = np.zeros((n,)), A_ub = A_ub, b_ub = b_ub, A_eq = A_eq, b_eq = b_eq, bounds = (0,1),method='interior-point')\n",
    "    return soln.x"
   ]
  },
  {
   "cell_type": "markdown",
   "metadata": {},
   "source": [
    "RPS example:"
   ]
  },
  {
   "cell_type": "code",
   "execution_count": 12,
   "metadata": {},
   "outputs": [
    {
     "name": "stdout",
     "output_type": "stream",
     "text": [
      "[0.33333333 0.33333333 0.33333333]\n"
     ]
    },
    {
     "name": "stderr",
     "output_type": "stream",
     "text": [
      "C:\\Users\\jinxi\\Anaconda3\\lib\\site-packages\\scipy\\optimize\\_linprog_ip.py:1262: OptimizeWarning: Solving system with option 'sym_pos':True failed. It is normal for this to happen occasionally, especially as the solution is approached. However, if you see this frequently, consider setting option 'sym_pos' to False.\n",
      "  OptimizeWarning)\n",
      "C:\\Users\\jinxi\\Anaconda3\\lib\\site-packages\\scipy\\optimize\\_linprog_ip.py:1274: OptimizeWarning: Solving system with option 'sym_pos':False failed. This may happen occasionally, especially as the solution is approached. However, if you see this frequently, your problem may be numerically challenging. If you cannot improve the formulation, consider setting 'lstsq' to True. Consider also setting `presolve` to True, if it is not already.\n",
      "  OptimizeWarning)\n"
     ]
    }
   ],
   "source": [
    "A = np.array([[0,1,-1],[-1,0,1],[1,-1,0]])\n",
    "print(Nash_eq(A))"
   ]
  },
  {
   "cell_type": "markdown",
   "metadata": {},
   "source": [
    "*eval_matrix_1pop(popn)*:\n",
    "- Input: list of strategies from 1 population of strategies where each strategy = $[p^i,v^i]$\n",
    "- Output: evaluation matrix A (as described in Section 2 of the paper)"
   ]
  },
  {
   "cell_type": "code",
   "execution_count": 13,
   "metadata": {},
   "outputs": [],
   "source": [
    "def eval_matrix_1pop(popn, C, k, c):\n",
    "    '''Input: 1 population of strategies\n",
    "       Output: evaluation matrix of that population'''\n",
    "    n = len(popn)\n",
    "    matrix = np.zeros((n,n))\n",
    "    for i in range(n):\n",
    "        for j in range(n):\n",
    "            p = popn[i][0]\n",
    "            v = popn[i][1]\n",
    "            q = popn[j][0]\n",
    "            w = popn[j][1]\n",
    "            soft_v, soft_w, dist_v, dist_w = softmax_fn(v,w,C,k,c)\n",
    "            matrix[i][j] = payoff(p, soft_v, q, soft_w)\n",
    "    return matrix"
   ]
  },
  {
   "cell_type": "markdown",
   "metadata": {},
   "source": [
    "*eval_matrix_2pop(popn)*:\n",
    "- Input: lists of strategies from 2 population of strategies where each strategy = $[p^i,v^i]$ (no. of strategies from population A can differ from population B's)\n",
    "- Output: evaluation matrix A (as described in Section 2 of the paper)"
   ]
  },
  {
   "cell_type": "code",
   "execution_count": 14,
   "metadata": {},
   "outputs": [],
   "source": [
    "# def eval_matrix_2pop(popn1,popn2):\n",
    "#     '''Input: 2 population of strategies\n",
    "#        Output: evaluation matrix of those 2 populations'''\n",
    "#     n = len(popn1)\n",
    "#     m = len(popn2)\n",
    "#     matrix = np.zeros((n,m))\n",
    "#     for i in range(n):\n",
    "#         for j in range(m):\n",
    "#             matrix[i][j] = payoff(popn1[i],popn2[j])\n",
    "#     return matrix"
   ]
  },
  {
   "cell_type": "code",
   "execution_count": 15,
   "metadata": {},
   "outputs": [],
   "source": [
    "def softmax_fn(v,w,C,k,c):\n",
    "    dist_v=np.zeros((c,k));\n",
    "    dist_w=np.zeros((c,k));\n",
    "    soft_v=np.zeros((c,k));\n",
    "    soft_w=np.zeros((c,k));\n",
    "    for i in range(c):\n",
    "        for j in range(k):\n",
    "            dist_v[i][j]=np.exp(-np.linalg.norm(C[i,:]-v[j,:])**2)\n",
    "            dist_w[i][j]=np.exp(-np.linalg.norm(C[i,:]-w[j,:])**2)\n",
    "        soft_v[i,:]=dist_v[i,:]/(np.sum(dist_v[i,:])+np.sum(dist_w[i,:]));\n",
    "        soft_w[i,:]=dist_w[i,:]/(np.sum(dist_v[i,:])+np.sum(dist_w[i,:]));\n",
    "    return soft_v,soft_w,dist_v,dist_w     "
   ]
  },
  {
   "cell_type": "code",
   "execution_count": 16,
   "metadata": {},
   "outputs": [],
   "source": [
    "def transform(strategy):\n",
    "    new_p = strategy[0]\n",
    "    p1 = new_p[0]\n",
    "    p2 = new_p[1]\n",
    "    v1 = strategy[1][0]\n",
    "    v2 = strategy[1][1]\n",
    "    b = p1*v1 + p2*v2\n",
    "    c1 = v1 - b\n",
    "    c2 = v2 - b\n",
    "    final_a1 = 0\n",
    "    final_a2 = 0\n",
    "    a2_1 = (2 -(c1+c2))/(1-p2/p1)\n",
    "    a1_1 = (-p2/p1)*a2_1\n",
    "    a2_2 = -(2 + (c1-c2))/(1+p2/p1)\n",
    "    a1_2 = (-p2/p1)*a2_2\n",
    "    a2_3 = (2+(c2-c1))/(1+p2/p1)\n",
    "    a1_3 = (-p2/p1)*a2_3\n",
    "    a2_4 = (c1+c2-2)/(1-p2/p1)\n",
    "    a1_4 = (-p2/p1)*a2_4\n",
    "    if a1_1 > c1 and a2_1 > c2:\n",
    "        final_a1 = a1_1\n",
    "        final_a2 = a2_1\n",
    "    elif a1_2 > c1 and a2_2 < c2:\n",
    "        final_a1 = a1_2\n",
    "        final_a2 = a2_2\n",
    "    elif a1_3 < c1 and a2_3 > c2:\n",
    "        final_a1 = a1_3\n",
    "        final_a2 = a2_3\n",
    "    else:\n",
    "        final_a1 = a1_4\n",
    "        final_a2 = a2_4\n",
    "    new_v1 = v1 - final_a1\n",
    "    new_v2 = v2 - final_a2\n",
    "    new_v = np.array([new_v1,new_v2])\n",
    "    new_strategy = [new_p, new_v]\n",
    "    return new_strategy"
   ]
  },
  {
   "cell_type": "code",
   "execution_count": 17,
   "metadata": {},
   "outputs": [],
   "source": [
    "def payoff(p,soft_v,q,soft_w):\n",
    "    payoff=np.sum(np.dot(soft_v,p)-np.dot(soft_w,q))\n",
    "    return payoff"
   ]
  },
  {
   "cell_type": "code",
   "execution_count": 18,
   "metadata": {},
   "outputs": [],
   "source": [
    "def oracle(popn,nash_p,eta,C,k,c):\n",
    "    curr_agent_p=popn[-1][0].reshape(k,1);\n",
    "    curr_agent_v=popn[-1][1];\n",
    "    next_agent_p=curr_agent_p+eta*gradient_p(popn,nash_p,curr_agent_v,C,k,c);\n",
    "    next_agent_p = next_agent_p/np.sum(next_agent_p)\n",
    "    next_agent_v=curr_agent_v+eta*gradient_v(popn,nash_p,curr_agent_p,curr_agent_v,C,k,c);\n",
    "    #print(gradient_v(popn,nash_p,curr_agent_p,curr_agent_v,C,k,c))\n",
    "    return next_agent_p,next_agent_v"
   ]
  },
  {
   "cell_type": "code",
   "execution_count": 19,
   "metadata": {},
   "outputs": [],
   "source": [
    "def gradient_p(popn,nash_p,agent_v,C,k,c):\n",
    "    sum_vec=np.zeros((k,1));\n",
    "    for i in range(len(popn)):\n",
    "        temp_agent_p=popn[i][0].reshape(k,1);\n",
    "        temp_agent_v=popn[i][1];\n",
    "        temp_v,temp_w,tempdist_v,tempdist_w=softmax_fn(agent_v,temp_agent_v,C,k,c);\n",
    "        val_grad=np.sum(temp_v,axis=0).reshape(k,1) #sum the rows\n",
    "        sum_vec=sum_vec+nash_p[i]*val_grad; #multiply w.r.t Nash p.\n",
    "        \n",
    "    return sum_vec; "
   ]
  },
  {
   "cell_type": "code",
   "execution_count": 28,
   "metadata": {},
   "outputs": [],
   "source": [
    "def gradient_v(popn,nash_p,agent_p,agent_v,C,k,c): #agent_p, agent_v are strategies of the current agent \"v_t of popn B_t\"\n",
    "    sum_mat=np.zeros((k,3));\n",
    "    for i in range(len(popn)):\n",
    "        temp_agent_p=popn[i][0].reshape(k,1);\n",
    "        temp_agent_v=popn[i][1];\n",
    "        temp_v,temp_w,tempdist_v,tempdist_w=softmax_fn(agent_v,temp_agent_v,C,k,c);\n",
    "        val_grad_mat=calc_gradient_matrix(agent_p,agent_v,temp_agent_p,temp_agent_v,temp_v,temp_w,tempdist_v,tempdist_w,C,k,c) #sum the rows\n",
    "        #To add the remaining parameters to calc_gradient_matrix function-See below.\n",
    "        sum_mat=sum_mat+nash_p[i]*val_grad_mat; #multiply w.r.t Nash p.\n",
    "        \n",
    "    return sum_mat"
   ]
  },
  {
   "cell_type": "code",
   "execution_count": 29,
   "metadata": {},
   "outputs": [],
   "source": [
    "def calc_gradient_matrix(agent_p,agent_v,temp_agent_p,temp_agent_v,temp_v,temp_w,tempdist_v,tempdist_w,C,k,c):\n",
    "    #agent_p - p vector of agent v_t\n",
    "    #temp_agent_q- q vector of the \"current opposition agent\"\n",
    "    #W- location matrix of \"current opposition agent\"\n",
    "    #V- location matrix of agent v_t\n",
    "    grad_mat=np.zeros((k,3));\n",
    "    V=agent_v;\n",
    "    W=temp_agent_v;\n",
    "    for j in range(k):\n",
    "        S_v=0;\n",
    "        S_w=0;\n",
    "        for i in range(c):\n",
    "            for l in range(k):\n",
    "                v_loc=V[j,:];\n",
    "                S_v=S_v+agent_p[j]*grad_payoff(v_loc,j,l,1,i,temp_v,temp_w,tempdist_v,tempdist_w,C,k,c);\n",
    "                S_w=S_w+temp_agent_p[j]*grad_payoff(v_loc,j,l,0,i,temp_v,temp_w,tempdist_v,tempdist_w,C,k,c);\n",
    "        \n",
    "         \n",
    "        grad_mat[j,:]=S_v-S_w;  \n",
    "      \n",
    "    return grad_mat    "
   ]
  },
  {
   "cell_type": "code",
   "execution_count": 22,
   "metadata": {},
   "outputs": [],
   "source": [
    "def grad_payoff(v_loc,v_loc_idx,w_loc_idx,agent_bool,c_idx,temp_v,temp_w,dist_v,dist_w,C,k,c): #Gradient with respect to v_loc a location strategy of agent v.\n",
    "    \n",
    "    if(agent_bool==1): #Differentiating agent_v\n",
    "        \n",
    "        if(v_loc_idx==w_loc_idx):\n",
    "            grad=(2*(C[c_idx,:]-v_loc)*dist_v[c_idx,v_loc_idx]*(np.sum(dist_v[c_idx,:])+np.sum(dist_w[c_idx,:])-dist_v[c_idx,v_loc_idx]))/(np.sum(dist_v[c_idx,:])+np.sum(dist_w[c_idx,:]))**2\n",
    "        else:\n",
    "            grad=(-2*(C[c_idx,:]-v_loc)*dist_v[c_idx,v_loc_idx]*dist_v[c_idx,w_loc_idx])/(np.sum(dist_v[c_idx,:])+np.sum(dist_w[c_idx,:]))**2\n",
    "    \n",
    "    else:\n",
    "#         if(v_loc_idx==w_loc_idx): #Differentiating agent_w\n",
    "#             grad=(2*(C[c_idx,:]-v_loc)*dist_v[c_idx,v_loc_idx]*(np.sum(dist_v[c_idx,:])+np.sum(dist_w[c_idx,:])-dist_w[c_idx,v_loc_idx]))/(np.sum(dist_v[c_idx,:])+np.sum(dist_w[c_idx,:]))**2\n",
    "#         else:\n",
    "        grad=(-2*(C[c_idx,:]-v_loc)*dist_v[c_idx,v_loc_idx]*dist_w[c_idx,w_loc_idx])/(np.sum(dist_v[c_idx,:])+np.sum(dist_w[c_idx,:]))**2   \n",
    "    \n",
    "    return grad    "
   ]
  },
  {
   "cell_type": "markdown",
   "metadata": {},
   "source": [
    "-----------------"
   ]
  },
  {
   "cell_type": "markdown",
   "metadata": {},
   "source": [
    "### 2.3 PSRO$_N$ and Self-play Implementation"
   ]
  },
  {
   "cell_type": "code",
   "execution_count": 23,
   "metadata": {},
   "outputs": [],
   "source": [
    "def PSRO_N(popn, C, k, c, eta = 1, epoch = 5):\n",
    "    strategies = popn\n",
    "    n = len(strategies)\n",
    "    for i in range(epoch):\n",
    "        A = eval_matrix_1pop(strategies, C, k, c)\n",
    "        nash_p = Nash_eq(A)\n",
    "        print(nash_p)\n",
    "        new_p, new_v = oracle(strategies,nash_p,eta,C,k,c)\n",
    "        new_strategy = [new_p, new_v]\n",
    "        strategies.append(new_strategy)\n",
    "        n = n + 1\n",
    "        print(\"There are \" + str(n) + \" strategies in the population now.\")\n",
    "    return strategies"
   ]
  },
  {
   "cell_type": "code",
   "execution_count": 24,
   "metadata": {},
   "outputs": [],
   "source": [
    "def Self_play(popn, C, k, c, eta = 1, epoch = 5):\n",
    "    strategies =  popn\n",
    "    n = len(strategies)\n",
    "    for i in range(epoch):\n",
    "        nash_p = np.zeros((n,1))\n",
    "        nash_p[-1] = 1\n",
    "        print(nash_p)\n",
    "        new_p, new_v = oracle(strategies,nash_p,eta,C,k,c)\n",
    "        new_strategy = [new_p, new_v]\n",
    "        strategies.append(new_strategy)\n",
    "        n = n + 1\n",
    "        print(\"There are \" + str(n) + \" strategies in the population now.\")\n",
    "    return strategies"
   ]
  },
  {
   "cell_type": "markdown",
   "metadata": {},
   "source": [
    "--------------"
   ]
  },
  {
   "cell_type": "markdown",
   "metadata": {},
   "source": [
    "### 2.4 Population Performance Measures"
   ]
  },
  {
   "cell_type": "markdown",
   "metadata": {},
   "source": [
    "*rel_popn_perf(popn1, popn2)*:\n",
    "- Input: lists of strategies from 2 population of strategies where each strategy = $[p^i,v^i]$ (no. of strategies from population A can differ from population B's)\n",
    "- Output: relative population performance (defined in Definition 3 of Section 3.1 in th paper)"
   ]
  },
  {
   "cell_type": "code",
   "execution_count": 25,
   "metadata": {},
   "outputs": [],
   "source": [
    "def rel_popn_perf(popn1, popn2):\n",
    "    perf = 0\n",
    "    A_1 = eval_matrix_1pop(popn1)\n",
    "    A_2 = eval_matrix_1pop(popn2)\n",
    "    A_12 = eval_matrix_2pop(popn1,popn2)\n",
    "    p = Nash_eq(A_1).reshape(-1,1)\n",
    "    q = Nash_eq(A_2).reshape(-1,1)\n",
    "    perf = np.dot(np.dot(p.T,A_12),q)\n",
    "    return perf"
   ]
  },
  {
   "cell_type": "markdown",
   "metadata": {},
   "source": [
    "*eff_diversity(popn)*:\n",
    "- Input: list of strategies from 1 population of strategies where each strategy = $[p^i,v^i]$\n",
    "- Output: effective diversity of the population (defined in Definition 4 of Section 3.2 in the paper)"
   ]
  },
  {
   "cell_type": "code",
   "execution_count": 26,
   "metadata": {},
   "outputs": [],
   "source": [
    "def eff_diversity(popn):\n",
    "    d = 0\n",
    "    A = eval_matrix_1pop(popn)\n",
    "    p = Nash_eq(A).reshape(-1,1)\n",
    "    A_plus = np.clip(A,0,None)\n",
    "    d = np.dot(np.dot(p.T,A_plus),p)\n",
    "    return d"
   ]
  },
  {
   "cell_type": "markdown",
   "metadata": {},
   "source": [
    "--------------"
   ]
  },
  {
   "cell_type": "markdown",
   "metadata": {},
   "source": [
    "## 3. Running all implementations"
   ]
  },
  {
   "cell_type": "markdown",
   "metadata": {},
   "source": [
    "### 3.0 Initialisation of population and customers"
   ]
  },
  {
   "cell_type": "markdown",
   "metadata": {},
   "source": [
    "**NOTE: DO NOT RUN THE CODE BELOW!!!**\n",
    "--------\n",
    "\n",
    "----------"
   ]
  },
  {
   "cell_type": "code",
   "execution_count": null,
   "metadata": {
    "scrolled": true
   },
   "outputs": [],
   "source": [
    "lb = -1 #lower bound of the space\n",
    "ub = 1 #upper bound of the space\n",
    "n = 2 #dimension of the space\n",
    "c = 9 #number of customers\n",
    "\n",
    "strategy1_3s = initialise_strategy(lb, ub, n, k=3) # 1st strategy for 3 servers\n",
    "strategy1_9s = initialise_strategy(lb, ub, n, k=9) # 1st strategy for 9 servers\n",
    "strategy1_15s = initialise_strategy(lb, ub, n, k=15) # 1st strategy for 15 servers\n",
    "\n",
    "popn_3s = [strategy1_3s]\n",
    "popn_9s = [strategy1_9s]\n",
    "popn_15s = [strategy1_15s]\n",
    "\n",
    "C = random_points_list(lb, ub, n, k = c)\n",
    "\n",
    "initialisation = open('initialisation.pkl','wb')\n",
    "pickle.dump(popn_3s, initialisation)\n",
    "pickle.dump(popn_9s, initialisation)\n",
    "pickle.dump(popn_15s, initialisation)\n",
    "pickle.dump(C, initialisation)\n",
    "initialisation.close()"
   ]
  },
  {
   "cell_type": "code",
   "execution_count": 27,
   "metadata": {},
   "outputs": [
    {
     "name": "stdout",
     "output_type": "stream",
     "text": [
      "[[array([[0.6557327 ],\n",
      "       [0.24911586],\n",
      "       [0.09515144]]), array([[-0.61266104,  0.34266345, -0.44932756],\n",
      "       [ 0.03288825,  0.02997487,  0.49965622],\n",
      "       [-0.2304317 ,  0.82405776,  0.38548567]])], [array([[0.08460683],\n",
      "       [0.0470628 ],\n",
      "       [0.86833037]]), array([[ 0.72626966, -0.92232135, -0.00807714],\n",
      "       [ 0.6639518 , -0.34556372, -0.10352617],\n",
      "       [ 0.94207596, -0.87770516, -0.05187619]])], [array([[0.51207664],\n",
      "       [0.3823197 ],\n",
      "       [0.10560366]]), array([[ 0.97060517, -0.94577817, -0.5704307 ],\n",
      "       [ 0.83210709,  0.43950315,  0.02108286],\n",
      "       [ 0.3978626 , -0.61694941, -0.59963332]])]]\n",
      "[[ 0.          0.34019729  0.208113  ]\n",
      " [-0.34019729  0.         -0.20960614]\n",
      " [-0.208113    0.20960614  0.        ]]\n",
      "[1.00000000e+00 1.01843046e-10 4.17931868e-12]\n"
     ]
    }
   ],
   "source": [
    "lb = -1 #lower bound of the space\n",
    "ub = 1 #upper bound of the space\n",
    "n = 3 #dimension of the space\n",
    "c = 9 #number of customers\n",
    "\n",
    "C = random_points_list(lb, ub, n, k = c)\n",
    "\n",
    "strategy1_3s = initialise_strategy(lb, ub, n, k=3)\n",
    "strategy2_3s = initialise_strategy(lb, ub, n, k=3)\n",
    "strategy3_3s = initialise_strategy(lb, ub, n, k=3)\n",
    "\n",
    "popn = [strategy1_3s, strategy2_3s, strategy3_3s]\n",
    "\n",
    "print(popn)\n",
    "\n",
    "A = eval_matrix_1pop(popn, C, k=3, c=9)\n",
    "nash = Nash_eq(A)\n",
    "print(A)\n",
    "print(nash)"
   ]
  },
  {
   "cell_type": "code",
   "execution_count": 30,
   "metadata": {},
   "outputs": [
    {
     "name": "stdout",
     "output_type": "stream",
     "text": [
      "[1.00000000e+00 1.01843046e-10 4.17931868e-12]\n",
      "There are 4 strategies in the population now.\n",
      "[3.20180208e-11 3.74477726e-11 2.88782089e-11 1.00000000e+00]\n",
      "There are 5 strategies in the population now.\n",
      "[1.91552819e-12 1.58054588e-13 7.43354496e-13 9.13224686e-14\n",
      " 1.00000000e+00]\n",
      "There are 6 strategies in the population now.\n",
      "[1.38960859e-09 4.22057544e-10 7.29225119e-10 5.11458831e-09\n",
      " 8.86254029e-10 9.99999996e-01]\n",
      "There are 7 strategies in the population now.\n",
      "[4.51897598e-09 1.73758536e-09 2.72590225e-09 1.03792430e-08\n",
      " 2.17950960e-07 5.36944342e-09 9.99999786e-01]\n",
      "There are 8 strategies in the population now.\n",
      "[2.89581218e-11 1.98791224e-11 2.41191622e-11 4.17451628e-11\n",
      " 9.49246535e-10 5.65112449e-11 7.21146369e-09 9.99999992e-01]\n",
      "There are 9 strategies in the population now.\n",
      "[1.53800672e-09 5.79186813e-10 9.98708008e-10 4.05739816e-09\n",
      " 2.95031274e-08 1.06513754e-07 2.70982410e-07 1.06094361e-08\n",
      " 9.99999591e-01]\n",
      "There are 10 strategies in the population now.\n",
      "[2.63248171e-11 1.13544485e-11 2.04897131e-11 2.85755225e-11\n",
      " 2.71551388e-09 5.17653205e-09 3.26963639e-09 5.37360363e-09\n",
      " 2.36310455e-07 9.99999748e-01]\n",
      "There are 11 strategies in the population now.\n",
      "[1.45972802e-10 1.33846104e-10 1.40612771e-10 7.30975307e-10\n",
      " 1.38200281e-08 2.29361430e-08 3.40625383e-08 7.85047733e-08\n",
      " 1.94782163e-07 7.03424708e-09 9.99999653e-01]\n",
      "There are 12 strategies in the population now.\n",
      "[1.00860350e-09 8.94379342e-10 9.26544703e-10 5.51043546e-09\n",
      " 6.04790261e-08 1.01454650e-07 1.83922407e-07 3.51954060e-07\n",
      " 5.87217375e-07 1.58472100e-06 1.47214475e-05 9.99982451e-01]\n",
      "There are 13 strategies in the population now.\n",
      "[1.95122145e-13 1.64204312e-13 1.70263176e-13 9.79258238e-13\n",
      " 8.13082853e-12 1.50877486e-11 2.83982924e-11 4.81282922e-11\n",
      " 6.49586362e-11 1.04612569e-10 4.39587243e-10 8.27644159e-09\n",
      " 9.99999991e-01]\n",
      "There are 14 strategies in the population now.\n",
      "[7.62636595e-13 6.28369089e-13 6.49307877e-13 3.69847317e-12\n",
      " 2.87265604e-11 5.65141583e-11 1.10104798e-10 1.98045600e-10\n",
      " 3.02446022e-10 4.23234196e-10 7.30047807e-10 2.22350664e-09\n",
      " 4.31546676e-08 9.99999953e-01]\n",
      "There are 15 strategies in the population now.\n",
      "[1.00400227e-12 8.40188097e-13 8.43384091e-13 5.28239451e-12\n",
      " 4.33213292e-11 8.13428405e-11 1.55014510e-10 2.86319498e-10\n",
      " 4.56414642e-10 6.31732289e-10 8.58361640e-10 1.47708182e-09\n",
      " 4.58578947e-09 1.21061751e-07 9.99999870e-01]\n",
      "There are 16 strategies in the population now.\n",
      "[9.65421193e-13 8.02575843e-13 7.77007362e-13 5.67645741e-12\n",
      " 5.33357371e-11 9.10442049e-11 1.61142040e-10 3.06290288e-10\n",
      " 5.22462034e-10 7.52720359e-10 9.40804150e-10 1.12221973e-09\n",
      " 1.63889100e-09 5.39302571e-09 1.88678197e-07 9.99999800e-01]\n",
      "There are 17 strategies in the population now.\n",
      "[1.23803090e-12 9.51683684e-13 9.34709738e-13 6.90047748e-12\n",
      " 6.90116761e-11 1.14656262e-10 1.95292364e-10 3.74768625e-10\n",
      " 6.67209517e-10 1.01376862e-09 1.33033015e-09 1.58262127e-09\n",
      " 1.89368422e-09 2.87197785e-09 1.01399626e-08 3.42857436e-07\n",
      " 9.99999637e-01]\n",
      "There are 18 strategies in the population now.\n",
      "[1.37453208e-12 9.71873382e-13 9.72187289e-13 7.08883243e-12\n",
      " 7.69190592e-11 1.23756915e-10 2.01013705e-10 3.90550475e-10\n",
      " 7.29865436e-10 1.17200283e-09 1.62574983e-09 2.02795721e-09\n",
      " 2.42321726e-09 3.09851555e-09 5.09586243e-09 1.82135267e-08\n",
      " 5.25321268e-07 9.99999440e-01]\n",
      "There are 19 strategies in the population now.\n",
      "[1.50881893e-12 9.99496784e-13 1.02416982e-12 6.95099267e-12\n",
      " 7.99413477e-11 1.26634536e-10 1.98389904e-10 3.89659719e-10\n",
      " 7.59005412e-10 1.27639200e-09 1.85646660e-09 2.43302547e-09\n",
      " 3.03533783e-09 3.88789318e-09 5.60739344e-09 1.00280646e-08\n",
      " 3.47392077e-08 7.96934150e-07 9.99999139e-01]\n",
      "There are 20 strategies in the population now.\n",
      "[1.62709989e-12 1.04216732e-12 1.09074839e-12 6.67587940e-12\n",
      " 7.88585917e-11 1.24800836e-10 1.91591901e-10 3.79864759e-10\n",
      " 7.62867936e-10 1.32600482e-09 1.99377792e-09 2.70478319e-09\n",
      " 3.48838760e-09 4.55294117e-09 6.42439804e-09 1.01769897e-08\n",
      " 1.84258231e-08 6.05969641e-08 1.13953332e-06 9.99998749e-01]\n",
      "There are 21 strategies in the population now.\n",
      "[2.93314349e-12 1.73038172e-12 1.82221207e-12 1.08206915e-11\n",
      " 1.49491907e-10 2.17441440e-10 2.97936164e-10 6.16872455e-10\n",
      " 1.35569221e-09 2.49746298e-09 3.86281450e-09 5.25791483e-09\n",
      " 6.61257935e-09 8.09498968e-09 1.02419418e-08 1.40751089e-08\n",
      " 2.08589504e-08 3.21046359e-08 1.06082757e-07 1.36783594e-06\n",
      " 9.99998420e-01]\n",
      "There are 22 strategies in the population now.\n",
      "[1.01557438e-13 4.15842460e-14 7.50352419e-14 2.17033320e-13\n",
      " 2.27586291e-12 3.11856613e-12 5.35505948e-12 1.42564703e-11\n",
      " 3.28839914e-11 5.92817287e-11 8.85905143e-11 1.16342113e-10\n",
      " 1.40094725e-10 1.59681156e-10 1.76975144e-10 1.95512456e-10\n",
      " 2.19716477e-10 2.57780082e-10 3.88590028e-10 1.85943744e-09\n",
      " 1.81597131e-07 9.99999815e-01]\n",
      "There are 23 strategies in the population now.\n"
     ]
    }
   ],
   "source": [
    "new_popn = PSRO_N(popn = popn, C = C, k=3, c = 9, eta = 1,epoch = 20)"
   ]
  },
  {
   "cell_type": "code",
   "execution_count": 55,
   "metadata": {},
   "outputs": [
    {
     "data": {
      "text/plain": [
       "0.9999999999999999"
      ]
     },
     "execution_count": 55,
     "metadata": {},
     "output_type": "execute_result"
    }
   ],
   "source": [
    "np.sum(soft_v[0]+soft_w[0])"
   ]
  },
  {
   "cell_type": "code",
   "execution_count": null,
   "metadata": {},
   "outputs": [],
   "source": []
  },
  {
   "cell_type": "markdown",
   "metadata": {},
   "source": [
    "---------"
   ]
  },
  {
   "cell_type": "markdown",
   "metadata": {},
   "source": [
    "**JUST RUN THIS TO LOAD THE INITIAL POPULATIONS AND FIXED CUSTOMERS**\n",
    "----------"
   ]
  },
  {
   "cell_type": "code",
   "execution_count": 13,
   "metadata": {},
   "outputs": [
    {
     "name": "stdout",
     "output_type": "stream",
     "text": [
      "1st strategy for 3 servers:\n",
      "[[array([[0.33690418],\n",
      "       [0.57266755],\n",
      "       [0.09042826]]), array([[-0.6588831 , -0.30443716],\n",
      "       [ 0.63009139,  0.84892945],\n",
      "       [-0.20919258, -0.83122018]])]]\n",
      "1st strategy for 9 servers:\n",
      "[[array([[0.12651314],\n",
      "       [0.20330865],\n",
      "       [0.28024899],\n",
      "       [0.02860374],\n",
      "       [0.09365179],\n",
      "       [0.03538327],\n",
      "       [0.05292266],\n",
      "       [0.08309388],\n",
      "       [0.09627388]]), array([[ 0.559884  ,  0.18746408],\n",
      "       [-0.43187223,  0.72890129],\n",
      "       [ 0.8663807 ,  0.49655679],\n",
      "       [ 0.49771878,  0.69660568],\n",
      "       [-0.35238418, -0.60426657],\n",
      "       [-0.52917142, -0.54600663],\n",
      "       [ 0.81011878,  0.39529413],\n",
      "       [-0.26856388, -0.06780096],\n",
      "       [-0.90123934, -0.82303664]])]]\n",
      "1st strategy for 15 servers:\n",
      "[[array([[0.08734612],\n",
      "       [0.04345478],\n",
      "       [0.06277414],\n",
      "       [0.10801926],\n",
      "       [0.04284768],\n",
      "       [0.00301178],\n",
      "       [0.06298912],\n",
      "       [0.06446927],\n",
      "       [0.09097309],\n",
      "       [0.085604  ],\n",
      "       [0.07137379],\n",
      "       [0.09562242],\n",
      "       [0.10663364],\n",
      "       [0.0691626 ],\n",
      "       [0.00571831]]), array([[ 0.79752978,  0.39197887],\n",
      "       [ 0.39015201, -0.58300191],\n",
      "       [-0.91094088,  0.70112277],\n",
      "       [-0.74627498, -0.70063844],\n",
      "       [-0.78318732,  0.15987626],\n",
      "       [ 0.1796582 , -0.11412654],\n",
      "       [ 0.70425068,  0.26854805],\n",
      "       [-0.82483359, -0.60031794],\n",
      "       [ 0.74352333, -0.18495705],\n",
      "       [-0.56595025, -0.16130637],\n",
      "       [-0.9984194 ,  0.14671542],\n",
      "       [ 0.62560912,  0.08703606],\n",
      "       [ 0.64300699,  0.62755849],\n",
      "       [ 0.86544854, -0.12961671],\n",
      "       [ 0.50299587,  0.70682025]])]]\n",
      "The fixed 9 customers are:\n",
      "[[-0.55522168 -0.06068846]\n",
      " [-0.34777585  0.98629855]\n",
      " [ 0.10385551  0.25928028]\n",
      " [ 0.38500469 -0.20972589]\n",
      " [-0.05175897 -0.96206949]\n",
      " [ 0.42724071  0.81398465]\n",
      " [ 0.9434981  -0.38847593]\n",
      " [ 0.07485487 -0.58124971]\n",
      " [ 0.39677009  0.32706811]]\n"
     ]
    }
   ],
   "source": [
    "lb = -1 #lower bound of the space\n",
    "ub = 1 #upper bound of the space\n",
    "n = 2 #dimension of the space\n",
    "c = 9 #number of customers\n",
    "\n",
    "initialisation = open('initialisation.pkl', 'rb')\n",
    "popn_3s = pickle.load(initialisation)\n",
    "popn_9s = pickle.load(initialisation)\n",
    "popn_15s = pickle.load(initialisation)\n",
    "C = pickle.load(initialisation)\n",
    "initialisation.close()\n",
    "print(\"1st strategy for 3 servers:\")\n",
    "print(popn_3s)\n",
    "print(\"1st strategy for 9 servers:\")\n",
    "print(popn_9s)\n",
    "print(\"1st strategy for 15 servers:\")\n",
    "print(popn_15s)\n",
    "print(\"The fixed 9 customers are:\")\n",
    "print(C)"
   ]
  },
  {
   "cell_type": "markdown",
   "metadata": {},
   "source": [
    "----------"
   ]
  },
  {
   "cell_type": "markdown",
   "metadata": {},
   "source": [
    "### 3.1 Self-play"
   ]
  },
  {
   "cell_type": "markdown",
   "metadata": {},
   "source": [
    "**NOTE: DO NOT RUN THE CODE BELOW!!!**\n",
    "----------"
   ]
  },
  {
   "cell_type": "markdown",
   "metadata": {},
   "source": [
    "-------------"
   ]
  },
  {
   "cell_type": "code",
   "execution_count": null,
   "metadata": {},
   "outputs": [],
   "source": [
    "lb = -1 #lower bound of the space\n",
    "ub = 1 #upper bound of the space\n",
    "n = 2 #dimension of the space\n",
    "c = 9 #number of customers\n",
    "\n",
    "initialisation = open('initialisation.pkl', 'rb')\n",
    "popn_3s = pickle.load(initialisation)\n",
    "popn_9s = pickle.load(initialisation)\n",
    "popn_15s = pickle.load(initialisation)\n",
    "C = pickle.load(initialisation)\n",
    "initialisation.close()\n",
    "print(\"1st strategy for 3 servers:\")\n",
    "print(popn_3s)\n",
    "print(\"1st strategy for 9 servers:\")\n",
    "print(popn_9s)\n",
    "print(\"1st strategy for 15 servers:\")\n",
    "print(popn_15s)\n",
    "print(\"The fixed 9 customers are:\")\n",
    "print(C)"
   ]
  },
  {
   "cell_type": "code",
   "execution_count": null,
   "metadata": {},
   "outputs": [],
   "source": [
    "popn_self_play = open('popn_self_play.pkl','wb')"
   ]
  },
  {
   "cell_type": "code",
   "execution_count": null,
   "metadata": {
    "scrolled": true
   },
   "outputs": [],
   "source": [
    "popn_self_play_3s = Self_play(popn = popn_3s, C = C, k=3, c = 9, eta = 1,epoch = 100)\n",
    "pickle.dump(popn_self_play_3s, popn_self_play)"
   ]
  },
  {
   "cell_type": "code",
   "execution_count": null,
   "metadata": {},
   "outputs": [],
   "source": [
    "popn_self_play_9s = Self_play(popn = popn_9s, C = C, k=9, c = 9, eta = 1,epoch = 100)\n",
    "pickle.dump(popn_self_play_9s, popn_self_play)"
   ]
  },
  {
   "cell_type": "code",
   "execution_count": null,
   "metadata": {},
   "outputs": [],
   "source": [
    "popn_self_play_15s = Self_play(popn = popn_15s, C = C, k=15, c = 9, eta = 1,epoch = 100)\n",
    "pickle.dump(popn_self_play_15s, popn_self_play)"
   ]
  },
  {
   "cell_type": "code",
   "execution_count": null,
   "metadata": {
    "scrolled": true
   },
   "outputs": [],
   "source": [
    "popn_self_play.close()"
   ]
  },
  {
   "cell_type": "markdown",
   "metadata": {},
   "source": [
    "-------------"
   ]
  },
  {
   "cell_type": "markdown",
   "metadata": {},
   "source": [
    "**JUST RUN THIS TO LOAD THE STRATEGIES OF ALL SELF-PLAY POPULATIONS**\n",
    "----------"
   ]
  },
  {
   "cell_type": "code",
   "execution_count": null,
   "metadata": {},
   "outputs": [],
   "source": [
    "popn_self_play = open('popn_self_play.pkl', 'rb')\n",
    "popn_self_play_3s = pickle.load(popn_self_play)\n",
    "popn_self_play_9s = pickle.load(popn_self_play)\n",
    "popn_self_play_15s = pickle.load(popn_self_play)\n",
    "popn_self_play.close()\n",
    "print(len(popn_self_play_3s), len(popn_self_play_9s), len(popn_self_play_15s))\n",
    "print(\"Last strategy for 3 servers:\")\n",
    "print(popn_self_play_3s[-1])\n",
    "print(\"Last strategy for 9 servers:\")\n",
    "print(popn_self_play_9s[-1])\n",
    "print(\"Last strategy for 15 servers:\")\n",
    "print(popn_self_play_15s[-1])"
   ]
  },
  {
   "cell_type": "markdown",
   "metadata": {},
   "source": [
    "The following plots how the phi value change as a new strategy is trained for 100 epoch."
   ]
  },
  {
   "cell_type": "code",
   "execution_count": null,
   "metadata": {},
   "outputs": [],
   "source": [
    "phi_changes_3s = []\n",
    "for i in range(len(popn_self_play_3s)-1):\n",
    "    soft_v, soft_w, _, _ = softmax_fn(popn_self_play_3s[i+1][1],popn_self_play_3s[i][1],C,k=3,c=9)\n",
    "    phi = payoff(popn_self_play_3s[i+1][0],soft_v,popn_self_play_3s[i][0],soft_w) \n",
    "    phi_changes_3s.append(phi)"
   ]
  },
  {
   "cell_type": "code",
   "execution_count": null,
   "metadata": {
    "scrolled": true
   },
   "outputs": [],
   "source": [
    "plt.style.use('seaborn')\n",
    "plt.plot(range(len(phi_changes_3s)), phi_changes_3s)\n",
    "plt.xlabel('Epoch')\n",
    "plt.ylabel('Phi Value')\n",
    "plt.show()"
   ]
  },
  {
   "cell_type": "markdown",
   "metadata": {},
   "source": [
    "--------------------"
   ]
  },
  {
   "cell_type": "markdown",
   "metadata": {},
   "source": [
    "### 3.2 PSRO$_N$"
   ]
  },
  {
   "cell_type": "markdown",
   "metadata": {},
   "source": [
    "**NOTE: DO NOT RUN THE CODE BELOW!!!**\n",
    "----------"
   ]
  },
  {
   "cell_type": "markdown",
   "metadata": {},
   "source": [
    "-----------"
   ]
  },
  {
   "cell_type": "code",
   "execution_count": null,
   "metadata": {},
   "outputs": [],
   "source": [
    "lb = -1 #lower bound of the space\n",
    "ub = 1 #upper bound of the space\n",
    "n = 2 #dimension of the space\n",
    "c = 9 #number of customers\n",
    "\n",
    "initialisation = open('initialisation.pkl', 'rb')\n",
    "popn_3s = pickle.load(initialisation)\n",
    "popn_9s = pickle.load(initialisation)\n",
    "popn_15s = pickle.load(initialisation)\n",
    "C = pickle.load(initialisation)\n",
    "initialisation.close()\n",
    "print(\"1st strategy for 3 servers:\")\n",
    "print(popn_3s)\n",
    "print(\"1st strategy for 9 servers:\")\n",
    "print(popn_9s)\n",
    "print(\"1st strategy for 15 servers:\")\n",
    "print(popn_15s)\n",
    "print(\"The fixed 9 customers are:\")\n",
    "print(C)"
   ]
  },
  {
   "cell_type": "code",
   "execution_count": null,
   "metadata": {},
   "outputs": [],
   "source": [
    "popn_psro_n = open('popn_psro_n.pkl','wb')"
   ]
  },
  {
   "cell_type": "code",
   "execution_count": null,
   "metadata": {},
   "outputs": [],
   "source": [
    "popn_psro_n_3s = PSRO_N(popn = popn_3s, C = C, k=3, c = 9, eta = 1,epoch = 50)\n",
    "pickle.dump(popn_psro_n_3s, popn_psro_n)"
   ]
  },
  {
   "cell_type": "code",
   "execution_count": null,
   "metadata": {},
   "outputs": [],
   "source": [
    "popn_psro_n_9s = PSRO_N(popn = popn_9s, C = C, k=9, c = 9, eta = 1,epoch = 100)\n",
    "pickle.dump(popn_psro_n_9s, popn_psro_n)"
   ]
  },
  {
   "cell_type": "code",
   "execution_count": null,
   "metadata": {},
   "outputs": [],
   "source": [
    "popn_psro_n_15s = PSRO_N(popn = popn_15s, C = C, k=15, c = 9, eta = 1,epoch = 100)\n",
    "pickle.dump(popn_psro_n_15s, popn_psro_n)"
   ]
  },
  {
   "cell_type": "code",
   "execution_count": null,
   "metadata": {},
   "outputs": [],
   "source": [
    "popn_psro_n.close()"
   ]
  },
  {
   "cell_type": "markdown",
   "metadata": {},
   "source": [
    "------------"
   ]
  },
  {
   "cell_type": "markdown",
   "metadata": {},
   "source": [
    "**JUST RUN THIS TO LOAD THE STRATEGIES OF ALL PSRO$_N$ POPULATIONS**\n",
    "----------"
   ]
  },
  {
   "cell_type": "code",
   "execution_count": 2,
   "metadata": {},
   "outputs": [
    {
     "name": "stdout",
     "output_type": "stream",
     "text": [
      "101 101 101\n"
     ]
    }
   ],
   "source": [
    "popn_psro_n = open('popn_psro_n.pkl', 'rb')\n",
    "popn_psro_n_3s = pickle.load(popn_psro_n)\n",
    "popn_psro_n_9s = pickle.load(popn_psro_n)\n",
    "popn_psro_n_15s = pickle.load(popn_psro_n)\n",
    "popn_psro_n.close()\n",
    "print(len(popn_psro_n_3s), len(popn_psro_n_9s), len(popn_psro_n_15s))\n",
    "# print(\"Last strategy for 3 servers:\")\n",
    "# print(popn_psro_n_3s[-1])\n",
    "# print(\"Last strategy for 9 servers:\")\n",
    "# print(popn_psro_n_9s[-1])\n",
    "# print(\"Last strategy for 15 servers:\")\n",
    "# print(popn_psro_n_15s[-1])"
   ]
  },
  {
   "cell_type": "code",
   "execution_count": null,
   "metadata": {},
   "outputs": [],
   "source": []
  },
  {
   "cell_type": "code",
   "execution_count": null,
   "metadata": {},
   "outputs": [],
   "source": []
  },
  {
   "cell_type": "code",
   "execution_count": null,
   "metadata": {},
   "outputs": [],
   "source": []
  },
  {
   "cell_type": "code",
   "execution_count": null,
   "metadata": {},
   "outputs": [],
   "source": []
  },
  {
   "cell_type": "code",
   "execution_count": null,
   "metadata": {},
   "outputs": [],
   "source": []
  },
  {
   "cell_type": "code",
   "execution_count": null,
   "metadata": {},
   "outputs": [],
   "source": [
    "phi_changes_3s_psro_n = []\n",
    "for i in range(len(popn_psro_n_3s)-1):\n",
    "    soft_v, soft_w, _, _ = softmax_fn(popn_psro_n_3s[i+1][1],popn_psro_n_3s[i][1],C,k=3,c=9)\n",
    "    phi = payoff(popn_psro_n_3s[i+1][0],soft_v,popn_psro_n_3s[i][0],soft_w) \n",
    "    phi_changes_3s_psro_n.append(phi)"
   ]
  },
  {
   "cell_type": "code",
   "execution_count": null,
   "metadata": {},
   "outputs": [],
   "source": [
    "plt.style.use('seaborn')\n",
    "plt.plot(range(len(phi_changes_3s_psro_n)), phi_changes_3s_psro_n)\n",
    "plt.xlabel('Epoch')\n",
    "plt.ylabel('Phi Value Changes')\n",
    "plt.show()"
   ]
  },
  {
   "cell_type": "markdown",
   "metadata": {},
   "source": [
    "-------"
   ]
  },
  {
   "cell_type": "code",
   "execution_count": null,
   "metadata": {},
   "outputs": [],
   "source": [
    "A_psro_n_3s = eval_matrix_1pop(popn_psro_n_3s, C, k=3, c=9)\n",
    "nash_psro_n_3s = Nash_eq(A_psro_n_3s)\n",
    "extra = 1-sum(nash_psro_n_3s)\n",
    "nash_psro_n_3s[-1] += extra\n",
    "print(sum(nash_psro_n_3s))"
   ]
  },
  {
   "cell_type": "code",
   "execution_count": null,
   "metadata": {},
   "outputs": [],
   "source": [
    "sample_psro_n_3s = []\n",
    "sample_index = np.random.choice(101, 1000, p=nash_psro_n_3s)\n",
    "for i in range(1000):\n",
    "    index = sample_index[i]\n",
    "    sample_psro_n_3s.append(popn_psro_n_3s[index])\n",
    "print(len(sample_psro_n_3s))"
   ]
  },
  {
   "cell_type": "code",
   "execution_count": null,
   "metadata": {},
   "outputs": [],
   "source": [
    "self_play_3s_best = popn_self_play_3s[-1]\n",
    "phi_compare_3s = []\n",
    "for i in range(1000):\n",
    "    psro_n_sample = sample_psro_n_3s[i]\n",
    "    soft_v, soft_w, _, _ = softmax_fn(psro_n_sample[1],self_play_3s_best[1],C,k=3,c=9)\n",
    "    phi = payoff(psro_n_sample[0],soft_v,self_play_3s_best[0],soft_w) \n",
    "    phi_compare_3s.append(phi)"
   ]
  },
  {
   "cell_type": "code",
   "execution_count": null,
   "metadata": {},
   "outputs": [],
   "source": [
    "plt.style.use('seaborn')\n",
    "plt.plot(range(len(phi_compare_3s)), phi_compare_3s)\n",
    "plt.xlabel('Epoch')\n",
    "plt.ylabel('Phi Value Comparison')\n",
    "plt.show()"
   ]
  },
  {
   "cell_type": "code",
   "execution_count": null,
   "metadata": {},
   "outputs": [],
   "source": []
  },
  {
   "cell_type": "markdown",
   "metadata": {},
   "source": [
    "------------"
   ]
  },
  {
   "cell_type": "markdown",
   "metadata": {},
   "source": [
    "# Extra"
   ]
  },
  {
   "cell_type": "code",
   "execution_count": null,
   "metadata": {
    "scrolled": true
   },
   "outputs": [],
   "source": [
    "lb = -0.25 #lower bound of the space\n",
    "ub = 0.25 #upper bound of the space\n",
    "n = 2 #dimension of the space\n",
    "k = 4 #number of servers\n",
    "c = 4 #number of customers\n",
    "\n",
    "strategy1 = initialise_strategy(lb, ub, n, k=4)\n",
    "#strategy2 = initialise_strategy(lb, ub, n, k=4)\n",
    "strategy1[0] = np.array([0.25,0.25,0.25,0.25])\n",
    "strategy1[1] = np.array([[0.7,0.7],[-0.7,0.7],[0.7,-0.7],[-0.7,-0.7]])\n",
    "#strategy2[0] = np.array([0.25,0.25,0.25,0.25])\n",
    "popn = [strategy1]#,strategy2]\n",
    "\n",
    "C = np.array([[-0.8,0.8],[-0.8,-0.8],[0.8,-0.8],[0.8,0.8]])\n",
    "print(popn)\n",
    "print(C)\n",
    "#initial_p = prob_dist(k=3)"
   ]
  },
  {
   "cell_type": "code",
   "execution_count": null,
   "metadata": {
    "scrolled": true
   },
   "outputs": [],
   "source": [
    "popn_psro_n = PSRO_N(popn, C, k, c,eta = 1, epoch = 50)"
   ]
  },
  {
   "cell_type": "code",
   "execution_count": null,
   "metadata": {
    "scrolled": true
   },
   "outputs": [],
   "source": [
    "popn_psro_n"
   ]
  },
  {
   "cell_type": "code",
   "execution_count": null,
   "metadata": {},
   "outputs": [],
   "source": [
    "A = eval_matrix_1pop(popn_psro_n, C, k, c)\n",
    "nash = Nash_eq(A)\n",
    "print(A)\n",
    "print(nash)"
   ]
  },
  {
   "cell_type": "markdown",
   "metadata": {},
   "source": [
    "----------"
   ]
  },
  {
   "cell_type": "code",
   "execution_count": null,
   "metadata": {},
   "outputs": [],
   "source": [
    "lb = -1 #lower bound of the space\n",
    "ub = 1 #upper bound of the space\n",
    "n = 2 #dimension of the space\n",
    "k = 3 #number of servers\n",
    "c = 9 #number of customers\n",
    "\n",
    "#strategy1_2s = initialise_strategy(lb, ub, n, k=2)\n",
    "strategy1_3s = initialise_strategy(lb, ub, n, k=3)\n",
    "#strategy1_4s = initialise_strategy(lb, ub, n, k=4)\n",
    "#strategy1_5s = initialise_strategy(lb, ub, n, k=5)\n",
    "# strategy2 = initialise_strategy(lb, ub, n, k)\n",
    "# strategy3 = initialise_strategy(lb, ub, n, k)\n",
    "# strategy4 = initialise_strategy(lb, ub, n, k)\n",
    "# strategy5 = initialise_strategy(lb, ub, n, k)\n",
    "# strategy6 = initialise_strategy(lb, ub, n, k)\n",
    "# strategy7 = initialise_strategy(lb, ub, n, k)\n",
    "# strategy8 = initialise_strategy(lb, ub, n, k)\n",
    "#popn_2s = [strategy1_2s]\n",
    "popn_3s = [strategy1_3s]\n",
    "#popn_4s = [strategy1_4s]\n",
    "#popn_5s = [strategy1_5s]\n",
    "#, strategy2, strategy3, strategy4] #, strategy5, strategy6, strategy7, strategy8]\n",
    "customers = open('customers.pkl', 'rb')\n",
    "C = pickle.load(customers)\n",
    "customers.close()\n",
    "print(popn_3s)\n",
    "print(C)\n",
    "#initial_p = prob_dist(k=3)"
   ]
  },
  {
   "cell_type": "code",
   "execution_count": null,
   "metadata": {},
   "outputs": [],
   "source": [
    "popn_psro_n_3s = PSRO_N(popn_3s, C, k, c,eta = 1, epoch = 50)"
   ]
  },
  {
   "cell_type": "code",
   "execution_count": null,
   "metadata": {},
   "outputs": [],
   "source": [
    "popn_psro_n_3s[-1]"
   ]
  },
  {
   "cell_type": "code",
   "execution_count": null,
   "metadata": {
    "scrolled": true
   },
   "outputs": [],
   "source": [
    "A = eval_matrix_1pop(popn_psro_n_3s, C, k, c)\n",
    "nash = Nash_eq(A)\n",
    "print(A)\n",
    "print(nash)"
   ]
  },
  {
   "cell_type": "code",
   "execution_count": null,
   "metadata": {},
   "outputs": [],
   "source": [
    "np.sum(nash)"
   ]
  },
  {
   "cell_type": "code",
   "execution_count": null,
   "metadata": {},
   "outputs": [],
   "source": [
    "popn_self_play_3s = Self_play(popn = popn_3s, C = C, k=3, c = c, eta = 0.05,epoch = 10)"
   ]
  },
  {
   "cell_type": "code",
   "execution_count": null,
   "metadata": {},
   "outputs": [],
   "source": [
    "popn_self_play_3s[-1]"
   ]
  },
  {
   "cell_type": "code",
   "execution_count": null,
   "metadata": {},
   "outputs": [],
   "source": []
  }
 ],
 "metadata": {
  "kernelspec": {
   "display_name": "Python 3",
   "language": "python",
   "name": "python3"
  },
  "language_info": {
   "codemirror_mode": {
    "name": "ipython",
    "version": 3
   },
   "file_extension": ".py",
   "mimetype": "text/x-python",
   "name": "python",
   "nbconvert_exporter": "python",
   "pygments_lexer": "ipython3",
   "version": "3.6.5"
  }
 },
 "nbformat": 4,
 "nbformat_minor": 2
}
