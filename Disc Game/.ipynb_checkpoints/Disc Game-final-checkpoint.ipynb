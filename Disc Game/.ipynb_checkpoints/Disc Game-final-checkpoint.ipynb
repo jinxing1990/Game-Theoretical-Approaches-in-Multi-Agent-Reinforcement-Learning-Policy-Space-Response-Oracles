{
 "cells": [
  {
   "cell_type": "code",
   "execution_count": 100,
   "metadata": {},
   "outputs": [],
   "source": [
    "import numpy as np\n",
    "from random import randint\n",
    "from scipy.optimize import linprog\n",
    "import pickle\n",
    "import matplotlib\n",
    "import matplotlib.pyplot as plt\n",
    "import math"
   ]
  },
  {
   "cell_type": "code",
   "execution_count": 101,
   "metadata": {},
   "outputs": [],
   "source": [
    "def payoff(v,w):\n",
    "    payoff=v[1]*w[0]-v[0]*w[1]\n",
    "    return -payoff"
   ]
  },
  {
   "cell_type": "code",
   "execution_count": 102,
   "metadata": {},
   "outputs": [],
   "source": [
    "def eval_matrix_1pop(popn):\n",
    "    '''Input: 1 population of strategies\n",
    "       Output: evaluation matrix of that population'''\n",
    "    n = len(popn)\n",
    "    matrix = np.zeros((n,n))\n",
    "    for i in range(n):\n",
    "        for j in range(n):\n",
    "            v = popn[i]\n",
    "            w = popn[j]\n",
    "            matrix[i][j] = payoff(v,w)\n",
    "    return matrix"
   ]
  },
  {
   "cell_type": "code",
   "execution_count": 103,
   "metadata": {},
   "outputs": [],
   "source": [
    "def random_point(lb = -5, ub = 5, n = 2):\n",
    "    point = np.zeros((n,))\n",
    "    for i in range(n):\n",
    "        point[i] = np.random.uniform(lb, ub)\n",
    "    return point"
   ]
  },
  {
   "cell_type": "code",
   "execution_count": 104,
   "metadata": {},
   "outputs": [],
   "source": [
    "def Nash_eq(A):\n",
    "    '''Input: matrix A of a population\n",
    "       Output: Nash equilibrium\n",
    "       Note that A need to be antisymmetric for this function to generate the right Nash p'''\n",
    "    n = A.shape[0]\n",
    "    A_ub = -A.T\n",
    "    b_ub = np.zeros((n,))\n",
    "    A_eq = np.ones((1,n))\n",
    "    b_eq = 1\n",
    "    soln = linprog(c = np.zeros((n,)), A_ub = A_ub, b_ub = b_ub, A_eq = A_eq, b_eq = b_eq, bounds = (0,1),method='interior-point')\n",
    "    return soln.x"
   ]
  },
  {
   "cell_type": "code",
   "execution_count": 105,
   "metadata": {},
   "outputs": [],
   "source": [
    "def oracle_rN(popn,nash_p,A,eta):\n",
    "    new_agents=[];\n",
    "    for i in range(len(popn)):\n",
    "        if(nash_p[i]>0.001):   \n",
    "            curr_agent_v=popn[i];\n",
    "            curr_agent_idx=i;\n",
    "            next_agent_v=curr_agent_v+eta*gradient_v_rN(popn,nash_p,A,curr_agent_idx,curr_agent_v)\n",
    "            new_agents.append(next_agent_v)  \n",
    "      #print(gradient_v(popn,nash_p,curr_agent_v))\n",
    "    return new_agents"
   ]
  },
  {
   "cell_type": "code",
   "execution_count": 106,
   "metadata": {},
   "outputs": [],
   "source": [
    "def oracle(popn,nash_p,eta):\n",
    "    new_agents=[];\n",
    "    for i in range(len(popn)):\n",
    "        curr_agent_v=popn[i]\n",
    "        next_agent_v=curr_agent_v+eta*gradient_v(popn,nash_p,curr_agent_v)  \n",
    "      #print(gradient_v(popn,nash_p,curr_agent_v))\n",
    "    return next_agent_v"
   ]
  },
  {
   "cell_type": "code",
   "execution_count": 107,
   "metadata": {},
   "outputs": [],
   "source": [
    "def gradient_v_rN(popn,nash_p,A,curr_agent_idx,agent_v): #agent_p, agent_v are strategies of the current agent \"v_t of popn B_t\"\n",
    "    sum_mat=np.zeros((2,));\n",
    "    for j in range(len(popn)):\n",
    "        if (A[curr_agent_idx][j]>=0):\n",
    "            temp_agent_v=popn[j];\n",
    "            val_grad_mat=np.array([temp_agent_v[1],-temp_agent_v[0]])\n",
    "            sum_mat=sum_mat+nash_p[j]*val_grad_mat; #multiply w.r.t Nash p.        \n",
    "    return sum_mat"
   ]
  },
  {
   "cell_type": "code",
   "execution_count": 108,
   "metadata": {},
   "outputs": [],
   "source": [
    "def gradient_v(popn,nash_p,agent_v): #agent_p, agent_v are strategies of the current agent \"v_t of popn B_t\"\n",
    "    sum_mat=np.zeros((2,));\n",
    "    for j in range(len(popn)):\n",
    "        temp_agent_v=popn[j];\n",
    "        val_grad_mat=np.array([temp_agent_v[1],-temp_agent_v[0]])\n",
    "        sum_mat=sum_mat+nash_p[j]*val_grad_mat; #multiply w.r.t Nash p.        \n",
    "    return sum_mat"
   ]
  },
  {
   "cell_type": "code",
   "execution_count": 109,
   "metadata": {},
   "outputs": [],
   "source": [
    "def PSRO_rN(popn, eta = 0.01, epoch = 10):\n",
    "    strategies = popn\n",
    "    for i in range(epoch):\n",
    "        A = eval_matrix_1pop(strategies)\n",
    "        nash_p = Nash_eq(A)\n",
    "        new_v_set = oracle_rN(strategies,nash_p,A,eta)\n",
    "        strategies.extend(new_v_set)\n",
    "        n = len(strategies)\n",
    "        print(\"There are \" + str(n) + \" strategies in the population now.\")\n",
    "    return strategies"
   ]
  },
  {
   "cell_type": "code",
   "execution_count": 110,
   "metadata": {},
   "outputs": [],
   "source": [
    "def Self_play(popn, eta = 0.01, epoch = 10):\n",
    "    strategies = popn\n",
    "    n = len(strategies)\n",
    "    for i in range(epoch):\n",
    "        A = eval_matrix_1pop(strategies)\n",
    "        nash_p = np.zeros((n,))\n",
    "        nash_p[-1] = 1\n",
    "        new_v_set = oracle_rN(strategies,nash_p,A,eta)\n",
    "        strategies.extend(new_v_set)\n",
    "        n = len(strategies)\n",
    "        print(\"There are \" + str(n) + \" strategies in the population now.\")\n",
    "    return strategies"
   ]
  },
  {
   "cell_type": "markdown",
   "metadata": {},
   "source": [
    "-----------------"
   ]
  },
  {
   "cell_type": "code",
   "execution_count": 111,
   "metadata": {
    "scrolled": true
   },
   "outputs": [
    {
     "name": "stdout",
     "output_type": "stream",
     "text": [
      "[array([0.8660254, 0.       ]), array([-0.4330127,  0.75     ]), array([-0.4330127, -0.75     ])]\n"
     ]
    }
   ],
   "source": [
    "r = (np.sqrt(3)/2)*np.array([np.cos(0),np.sin(0)])\n",
    "p = (np.sqrt(3)/2)*np.array([np.cos(2*math.pi/3),np.sin(2*math.pi/3)])\n",
    "s = (np.sqrt(3)/2)*np.array([np.cos(4*math.pi/3),np.sin(4*math.pi/3)])\n",
    "\n",
    "popn_rps = [r,p,s]\n",
    "print(popn_rps)"
   ]
  },
  {
   "cell_type": "code",
   "execution_count": null,
   "metadata": {
    "scrolled": true
   },
   "outputs": [],
   "source": [
    "new_popn_rps = PSRO_rN(popn_rps, eta = 1, epoch = 15)"
   ]
  },
  {
   "cell_type": "code",
   "execution_count": 23,
   "metadata": {},
   "outputs": [],
   "source": [
    "PSRO_rN_rps = open('PSRO_rN_rps.pkl','wb')\n",
    "pickle.dump(new_popn_rps, PSRO_rN_rps)\n",
    "PSRO_rN_rps.close()"
   ]
  },
  {
   "cell_type": "code",
   "execution_count": 154,
   "metadata": {},
   "outputs": [],
   "source": [
    "curr_popn = new_popn_rps"
   ]
  },
  {
   "cell_type": "code",
   "execution_count": 155,
   "metadata": {
    "scrolled": true
   },
   "outputs": [
    {
     "data": {
      "image/png": "[encoded data removed]",
      "text/plain": [
       "<Figure size 576x396 with 1 Axes>"
      ]
     },
     "metadata": {},
     "output_type": "display_data"
    }
   ],
   "source": [
    "x = []\n",
    "for i in range(len(curr_popn)):\n",
    "    x.append(curr_popn[i][0])\n",
    "\n",
    "y = []\n",
    "for i in range(len(curr_popn)):\n",
    "    y.append(curr_popn[i][1])\n",
    "\n",
    "plt.xlim(-6, 6)\n",
    "plt.ylim(-6, 6)\n",
    "plt.scatter(x,y)\n",
    "plt.title('Scatter plot')\n",
    "plt.xlabel('x')\n",
    "plt.ylabel('y')\n",
    "plt.show()"
   ]
  },
  {
   "cell_type": "markdown",
   "metadata": {},
   "source": [
    "---------"
   ]
  },
  {
   "cell_type": "code",
   "execution_count": 157,
   "metadata": {},
   "outputs": [
    {
     "name": "stdout",
     "output_type": "stream",
     "text": [
      "[array([0.8660254, 0.       ]), array([-0.4330127,  0.75     ]), array([-0.4330127, -0.75     ])]\n"
     ]
    }
   ],
   "source": [
    "r = (np.sqrt(3)/2)*np.array([np.cos(0),np.sin(0)])\n",
    "p = (np.sqrt(3)/2)*np.array([np.cos(2*math.pi/3),np.sin(2*math.pi/3)])\n",
    "s = (np.sqrt(3)/2)*np.array([np.cos(4*math.pi/3),np.sin(4*math.pi/3)])\n",
    "\n",
    "popn_rps = [r,p,s]\n",
    "print(popn_rps)"
   ]
  },
  {
   "cell_type": "code",
   "execution_count": null,
   "metadata": {},
   "outputs": [],
   "source": [
    "self_popn_rps = Self_play(popn_rps, eta = 0.1, epoch = 1536)"
   ]
  },
  {
   "cell_type": "code",
   "execution_count": null,
   "metadata": {},
   "outputs": [],
   "source": [
    "self_popn_rps[-10:]"
   ]
  },
  {
   "cell_type": "code",
   "execution_count": 160,
   "metadata": {},
   "outputs": [],
   "source": [
    "self_rps = open('self_rps.pkl','wb')\n",
    "pickle.dump(self_popn_rps, self_rps)\n",
    "self_rps.close()"
   ]
  },
  {
   "cell_type": "code",
   "execution_count": 223,
   "metadata": {},
   "outputs": [],
   "source": [
    "curr_popn = self_popn_rps[:1436]"
   ]
  },
  {
   "cell_type": "code",
   "execution_count": 224,
   "metadata": {},
   "outputs": [
    {
     "data": {
      "image/png": "[encoded data removed]",
      "text/plain": [
       "<Figure size 576x396 with 1 Axes>"
      ]
     },
     "metadata": {},
     "output_type": "display_data"
    }
   ],
   "source": [
    "s = []\n",
    "for i in range(len(curr_popn)):\n",
    "    s.append(curr_popn[i][0])\n",
    "\n",
    "t = []\n",
    "for i in range(len(curr_popn)):\n",
    "    t.append(curr_popn[i][1])\n",
    "\n",
    "plt.xlim(-1000, 1000)\n",
    "plt.ylim(-1000, 1000)\n",
    "plt.scatter(s,t)\n",
    "plt.title('Scatter plot')\n",
    "plt.xlabel('x')\n",
    "plt.ylabel('y')\n",
    "plt.show()"
   ]
  },
  {
   "cell_type": "code",
   "execution_count": null,
   "metadata": {},
   "outputs": [],
   "source": []
  }
 ],
 "metadata": {
  "kernelspec": {
   "display_name": "Python 3",
   "language": "python",
   "name": "python3"
  },
  "language_info": {
   "codemirror_mode": {
    "name": "ipython",
    "version": 3
   },
   "file_extension": ".py",
   "mimetype": "text/x-python",
   "name": "python",
   "nbconvert_exporter": "python",
   "pygments_lexer": "ipython3",
   "version": "3.6.5"
  }
 },
 "nbformat": 4,
 "nbformat_minor": 2
}
