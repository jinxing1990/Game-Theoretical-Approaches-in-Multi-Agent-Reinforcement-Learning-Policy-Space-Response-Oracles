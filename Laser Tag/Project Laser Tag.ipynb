{
 "cells": [
  {
   "cell_type": "markdown",
   "metadata": {},
   "source": [
    "# Project Laser Tag\n",
    "\n",
    "**Instruction:**\n",
    "\n",
    "- Run the codes in the order as stated in the numbering 1 to 6.\n",
    "- There are optional codes, which will be stated \"Optional to run\", that you can choose to ignore. Most of the optional codes are to test the model or implementation if its working.\n",
    "\n",
    "\n",
    "## 1. Import all necessary packages"
   ]
  },
  {
   "cell_type": "code",
   "execution_count": 1,
   "metadata": {},
   "outputs": [],
   "source": [
    "import gym\n",
    "import logging\n",
    "import numpy as np\n",
    "import tensorflow as tf\n",
    "import tensorflow.keras.layers as kl\n",
    "import tensorflow.keras.losses as kls\n",
    "import tensorflow.keras.optimizers as ko\n",
    "import matplotlib\n",
    "import matplotlib.pyplot as plt\n",
    "%matplotlib inline  \n",
    "import lasertag"
   ]
  },
  {
   "cell_type": "markdown",
   "metadata": {},
   "source": [
    "# Policy & Value Model Class\n",
    "\n",
    "## 2. Create the policy and value estimate NNs under a single model class"
   ]
  },
  {
   "cell_type": "code",
   "execution_count": 2,
   "metadata": {},
   "outputs": [],
   "source": [
    "class ProbabilityDistribution(tf.keras.Model):\n",
    "    def call(self, logits):\n",
    "        # sample a random categorical action from given logits\n",
    "        return tf.squeeze(tf.random.categorical(logits, 1), axis=-1)\n",
    "\n",
    "class Model(tf.keras.Model):\n",
    "    def __init__(self, num_actions):\n",
    "        super().__init__('mlp_policy')\n",
    "        # no tf.get_variable(), just simple Keras API\n",
    "        #note that the inputs will be flatten from (21x20x3) to (1260,)\n",
    "        #thus, I have made the changes to the neural networks as shown below\n",
    "        #if we introduced CNN before the following NN, we can change back to 2 layers of 128 units\n",
    "        self.hiddenL1 = kl.Dense(512, activation='relu') #change original 1 layer of 128 to 2 layers of 512,256 for logits\n",
    "        self.hiddenL2 = kl.Dense(256, activation='relu')\n",
    "        self.hiddenV1 = kl.Dense(512, activation='relu') #change original 1 layer of 128 to 2 layers of 512,128 for values\n",
    "        self.hiddenV2 = kl.Dense(128, activation='relu')\n",
    "        self.value = kl.Dense(1, name='value') #last layer of 1 unit for value\n",
    "        # logits are unnormalized log probabilities\n",
    "        self.logits = kl.Dense(num_actions, name='policy_logits') #last layer of num.actions units for logits\n",
    "        self.dist = ProbabilityDistribution()\n",
    "\n",
    "    def call(self, inputs):\n",
    "        # inputs is a numpy array, convert to Tensor\n",
    "        x = tf.convert_to_tensor(inputs)\n",
    "        # separate hidden layers from the same input tensor\n",
    "        L1 = self.hiddenL1(x)\n",
    "        hidden_logs = self.hiddenL2(L1)\n",
    "        V1 = self.hiddenV1(x)\n",
    "        hidden_vals = self.hiddenV2(V1)\n",
    "        return self.logits(hidden_logs), self.value(hidden_vals)\n",
    "\n",
    "    def action_value(self, obs):\n",
    "        # executes call() under the hood\n",
    "        logits, value = self.predict(obs)\n",
    "        action = self.dist.predict(logits)\n",
    "        # a simpler option, will become clear later why we don't use it\n",
    "        #action = tf.random.categorical(logits, 1)\n",
    "        return np.squeeze(action, axis=-1), np.squeeze(value, axis=-1)"
   ]
  },
  {
   "cell_type": "markdown",
   "metadata": {},
   "source": [
    "(Optional to run) Verify that the model works:"
   ]
  },
  {
   "cell_type": "code",
   "execution_count": 3,
   "metadata": {},
   "outputs": [
    {
     "name": "stderr",
     "output_type": "stream",
     "text": [
      "/home/jinxing/.local/lib/python3.6/site-packages/pycolab/ascii_art.py:318: FutureWarning: arrays to stack must be passed as a \"sequence\" type such as list or tuple. Support for non-sequence iterables such as generators is deprecated as of NumPy 1.16 and will raise an error in the future.\n",
      "  art = np.vstack(np.fromstring(line, dtype=np.uint8) for line in art)\n"
     ]
    },
    {
     "name": "stdout",
     "output_type": "stream",
     "text": [
      "8 [-83.67804]\n",
      "1 [-119.97365]\n"
     ]
    }
   ],
   "source": [
    "env = gym.make('LaserTag-small2-v0')\n",
    "model = Model(num_actions=env.action_space.n)\n",
    "\n",
    "obs = list(env.reset())\n",
    "#flatten from (21x20x3) to (1260,) for both players observations\n",
    "obs[0] = obs[0].astype(np.float).reshape(-1)\n",
    "obs[1] = obs[1].astype(np.float).reshape(-1)\n",
    "# # no feed_dict or tf.Session() needed at all\n",
    "action1, value1 = model.action_value(obs[0][None, :])\n",
    "action2, value2 = model.action_value(obs[1][None, :])\n",
    "print(action1, value1) \n",
    "print(action2, value2)\n",
    "# print(action1.shape)\n",
    "\n",
    "# print(type(obs[0]))\n",
    "# print(obs[0].shape)"
   ]
  },
  {
   "cell_type": "markdown",
   "metadata": {},
   "source": [
    "# Advantage Actor-Critic Agent Class\n",
    "\n",
    "(Optional to run) Simple implementation:"
   ]
  },
  {
   "cell_type": "code",
   "execution_count": 4,
   "metadata": {},
   "outputs": [],
   "source": [
    "class A2CAgent:\n",
    "    def __init__(self, model):\n",
    "        self.model = model\n",
    "\n",
    "    def test(self, env, render=True):\n",
    "        obs, done, ep_reward = list(env.reset()), False, np.array([0, 0])\n",
    "        #flatten from (21x20x3) to (1260,) for both players observations\n",
    "        obs[0] = obs[0].astype(np.float).reshape(-1)\n",
    "        obs[1] = obs[1].astype(np.float).reshape(-1)\n",
    "        while not done:\n",
    "            action1, _ = self.model.action_value(obs[0][None, :])\n",
    "            action2, _ = self.model.action_value(obs[1][None, :])\n",
    "            obs, reward, done, _ = env.step({\"1\": action1, \"2\": action2})\n",
    "            obs = list(obs)\n",
    "            obs[0] = obs[0].astype(np.float).reshape(-1)\n",
    "            obs[1] = obs[1].astype(np.float).reshape(-1)\n",
    "            ep_reward += reward\n",
    "            if render:\n",
    "                env.render()\n",
    "        return ep_reward"
   ]
  },
  {
   "cell_type": "markdown",
   "metadata": {},
   "source": [
    "(Optional to run) Testing out the above simple implementation:"
   ]
  },
  {
   "cell_type": "code",
   "execution_count": 16,
   "metadata": {},
   "outputs": [
    {
     "name": "stdout",
     "output_type": "stream",
     "text": [
      "[0 0]\n",
      "(2,)\n"
     ]
    }
   ],
   "source": [
    "agent = A2CAgent(model)\n",
    "rewards_sum = agent.test(env)\n",
    "print(rewards_sum)\n",
    "print(rewards_sum.shape)"
   ]
  },
  {
   "cell_type": "markdown",
   "metadata": {},
   "source": [
    "## 3. Full implementation of the A2CAgent\n",
    "\n",
    "**READ THIS:**\n",
    "\n",
    "The following implementation is to train both agents together independently (only reacting to what they observe, and hence, treating opponent's action as part of his observation/environment) with each of them has their own critic.\n",
    "\n",
    "I believe it can be modified such that we will take opponent's stochastic policy and only train one agent at each time, which is what we want in our project. The output of the train function should produce the (stochastic) policy of the trained agent as well.\n",
    "\n",
    "**Full implmentation:**"
   ]
  },
  {
   "cell_type": "code",
   "execution_count": 8,
   "metadata": {},
   "outputs": [],
   "source": [
    "class A2CAgent:\n",
    "    def __init__(self, model):\n",
    "        # hyperparameters for loss terms, gamma is the discount coefficient\n",
    "        self.params = {\n",
    "            'gamma': 0.95, #change from 0.99 to 0.95 \n",
    "            'value': 0.5,\n",
    "            'entropy': 0.0001\n",
    "        }\n",
    "        self.model = model\n",
    "        self.model.compile(\n",
    "            optimizer=ko.RMSprop(lr=0.0007), \n",
    "            # define separate losses for policy logits and value estimate\n",
    "            loss=[self._logits_loss, self._value_loss]\n",
    "        )\n",
    "    \n",
    "    def train(self, env, batch_sz=4, updates=12500):\n",
    "        #change batch_sz from 32 to 4 and updates from 1000 to 12500\n",
    "        #note that each episode consider of 1000 steps. Hence, 4x12500/1000 = 50 episodes\n",
    "        # storage helpers for a single batch of data\n",
    "        actions1 = np.empty((batch_sz,), dtype=np.int32)\n",
    "        actions2 = np.empty((batch_sz,), dtype=np.int32)\n",
    "        rewards1 = np.empty((batch_sz,))\n",
    "        rewards2 = np.empty((batch_sz,))\n",
    "        values1 = np.empty((batch_sz,))\n",
    "        values2 = np.empty((batch_sz,))\n",
    "        dones = np.empty((batch_sz,))\n",
    "        #observations will be in (1260,) instead of the original (21x20x3)\n",
    "        #I believe the result will be better if we stick to (21x20x3) inputs and use 2-3 layers of CNN\n",
    "        observations1 = np.empty((batch_sz,1260))\n",
    "        observations2 = np.empty((batch_sz,1260))\n",
    "        # training loop: collect samples, send to optimizer, repeat updates times\n",
    "        ep_rews1 =[0.0]\n",
    "        ep_rews2 =[0.0]\n",
    "        next_obs = list(env.reset())\n",
    "        #flatten from (21x20x3) to (1260,) for both players observations\n",
    "        next_obs[0] = next_obs[0].astype(np.float).reshape(-1)\n",
    "        next_obs[1] = next_obs[1].astype(np.float).reshape(-1)\n",
    "        for update in range(updates):\n",
    "            for step in range(batch_sz):\n",
    "                observations1[step],observations2[step] = next_obs.copy()\n",
    "                actions1[step], values1[step] = self.model.action_value(next_obs[0][None, :])\n",
    "                actions2[step], values2[step] = self.model.action_value(next_obs[1][None, :])\n",
    "                next_obs, [rewards1[step],rewards2[step]], dones[step], _ = env.step({\"1\":actions1[step],\"2\":actions2[step]})\n",
    "                next_obs = list(next_obs)\n",
    "                #flatten from (21x20x3) to (1260,) for both players observations\n",
    "                next_obs[0] = next_obs[0].astype(np.float).reshape(-1)\n",
    "                next_obs[1] = next_obs[1].astype(np.float).reshape(-1)\n",
    "\n",
    "                ep_rews1[-1] += rewards1[step]\n",
    "                ep_rews2[-1] += rewards2[step]\n",
    "                if dones[step]:\n",
    "                    ep_rews1.append(0.0)\n",
    "                    ep_rews2.append(0.0)\n",
    "                    next_obs = list(env.reset())\n",
    "                    #flatten from (21x20x3) to (1260,) for both players observations\n",
    "                    next_obs[0] = next_obs[0].astype(np.float).reshape(-1)\n",
    "                    next_obs[1] = next_obs[1].astype(np.float).reshape(-1)\n",
    "                    logging.info(\"Episode: %s, Reward1: %s, Reward2: %s\" % (len(ep_rews2)-1, ep_rews1[-2], ep_rews2[-2]))\n",
    "\n",
    "            _, next_value1 = self.model.action_value(next_obs[0][None, :])\n",
    "            _, next_value2 = self.model.action_value(next_obs[1][None, :])\n",
    "            returns1, advs1 = self._returns_advantages(rewards1, dones, values1, next_value1)\n",
    "            returns2, advs2 = self._returns_advantages(rewards2, dones, values2, next_value2)\n",
    "            # a trick to input actions and advantages through same API\n",
    "            acts_and_advs1 = np.concatenate([actions1[:, None], advs1[:, None]], axis=-1)\n",
    "            acts_and_advs2 = np.concatenate([actions2[:, None], advs2[:, None]], axis=-1)\n",
    "            # performs a full training step on the collected batch\n",
    "            # note: no need to mess around with gradients, Keras API handles it\n",
    "            losses1 = self.model.train_on_batch(observations1, [acts_and_advs1, returns1])\n",
    "            losses2 = self.model.train_on_batch(observations2, [acts_and_advs2, returns2])\n",
    "            logging.debug(\"[%d/%d] Losses: %s\" % (update+1, updates, losses1))\n",
    "            logging.debug(\"[%d/%d] Losses: %s\" % (update+1, updates, losses2))\n",
    "        return ep_rews1, ep_rews2\n",
    "\n",
    "    def test(self, env, render=True):\n",
    "        obs, done, ep_reward = list(env.reset()), False, np.array([0, 0])\n",
    "        #flatten from (21x20x3) to (1260,) for both players observations\n",
    "        obs[0] = obs[0].astype(np.float).reshape(-1)\n",
    "        obs[1] = obs[1].astype(np.float).reshape(-1)\n",
    "        while not done:\n",
    "            action1, _ = self.model.action_value(obs[0][None, :])\n",
    "            action2, _ = self.model.action_value(obs[1][None, :])\n",
    "            obs, reward, done, _ = env.step({\"1\": action1, \"2\": action2})\n",
    "            obs = list(obs)\n",
    "            obs[0] = obs[0].astype(np.float).reshape(-1)\n",
    "            obs[1] = obs[1].astype(np.float).reshape(-1)\n",
    "            ep_reward += reward\n",
    "            if render:\n",
    "                env.render()\n",
    "        return ep_reward\n",
    "\n",
    "    def _returns_advantages(self, rewards, dones, values, next_value):\n",
    "        # next_value is the bootstrap value estimate of a future state (the critic)\n",
    "        returns = np.append(np.zeros_like(rewards), next_value, axis=-1)\n",
    "        # returns are calculated as discounted sum of future rewards\n",
    "        for t in reversed(range(rewards.shape[0])):\n",
    "            returns[t] = rewards[t] + self.params['gamma'] * returns[t+1] * (1-dones[t])\n",
    "        returns = returns[:-1]\n",
    "        # advantages are returns - baseline, value estimates in our case\n",
    "        advantages = returns - values\n",
    "        return returns, advantages\n",
    "    \n",
    "    def _value_loss(self, returns, value):\n",
    "        # value loss is typically MSE between value estimates and returns\n",
    "        return self.params['value']*kls.mean_squared_error(returns, value)\n",
    "\n",
    "    def _logits_loss(self, acts_and_advs, logits):\n",
    "        # a trick to input actions and advantages through same API\n",
    "        actions, advantages = tf.split(acts_and_advs, 2, axis=-1)\n",
    "        # sparse categorical CE loss obj that supports sample_weight arg on call()\n",
    "        # from_logits argument ensures transformation into normalized probabilities\n",
    "        weighted_sparse_ce = kls.SparseCategoricalCrossentropy(from_logits=True)\n",
    "        # policy loss is defined by policy gradients, weighted by advantages\n",
    "        # note: we only calculate the loss on the actions we've actually taken\n",
    "        actions = tf.cast(actions, tf.int32)\n",
    "        policy_loss = weighted_sparse_ce(actions, logits, sample_weight=advantages)\n",
    "        # entropy loss can be calculated via CE over itself\n",
    "        entropy_loss = kls.categorical_crossentropy(logits, logits, from_logits=True)\n",
    "        # here signs are flipped because optimizer minimizes\n",
    "        return policy_loss - self.params['entropy']*entropy_loss"
   ]
  },
  {
   "cell_type": "code",
   "execution_count": 9,
   "metadata": {},
   "outputs": [],
   "source": [
    "env = gym.make('LaserTag-small2-v0')\n",
    "model = Model(num_actions=env.action_space.n)\n",
    "agent = A2CAgent(model)"
   ]
  },
  {
   "cell_type": "markdown",
   "metadata": {},
   "source": [
    "(Optional to run) Test with random weights:"
   ]
  },
  {
   "cell_type": "code",
   "execution_count": 19,
   "metadata": {},
   "outputs": [
    {
     "name": "stdout",
     "output_type": "stream",
     "text": [
      "[0 0]\n"
     ]
    }
   ],
   "source": [
    "rewards_sum = agent.test(env)\n",
    "print(rewards_sum)"
   ]
  },
  {
   "cell_type": "markdown",
   "metadata": {},
   "source": [
    "## 4. Train both agents at the same time using A2CAgent"
   ]
  },
  {
   "cell_type": "code",
   "execution_count": 10,
   "metadata": {
    "scrolled": true
   },
   "outputs": [
    {
     "name": "stderr",
     "output_type": "stream",
     "text": [
      "/home/jinxing/.local/lib/python3.6/site-packages/pycolab/ascii_art.py:318: FutureWarning: arrays to stack must be passed as a \"sequence\" type such as list or tuple. Support for non-sequence iterables such as generators is deprecated as of NumPy 1.16 and will raise an error in the future.\n",
      "  art = np.vstack(np.fromstring(line, dtype=np.uint8) for line in art)\n",
      "I0412 13:28:45.313492 139784017590080 <ipython-input-8-380d312fca9c>:58] Episode: 1, Reward1: 0.0, Reward2: 0.0\n",
      "I0412 13:29:03.499548 139784017590080 <ipython-input-8-380d312fca9c>:58] Episode: 2, Reward1: 2.0, Reward2: 0.0\n",
      "I0412 13:29:20.850419 139784017590080 <ipython-input-8-380d312fca9c>:58] Episode: 3, Reward1: 2.0, Reward2: 4.0\n",
      "I0412 13:29:39.318537 139784017590080 <ipython-input-8-380d312fca9c>:58] Episode: 4, Reward1: 4.0, Reward2: 5.0\n",
      "I0412 13:29:56.722141 139784017590080 <ipython-input-8-380d312fca9c>:58] Episode: 5, Reward1: 3.0, Reward2: 3.0\n",
      "I0412 13:30:14.126593 139784017590080 <ipython-input-8-380d312fca9c>:58] Episode: 6, Reward1: 7.0, Reward2: 6.0\n",
      "I0412 13:30:31.218235 139784017590080 <ipython-input-8-380d312fca9c>:58] Episode: 7, Reward1: 9.0, Reward2: 10.0\n",
      "I0412 13:30:48.080273 139784017590080 <ipython-input-8-380d312fca9c>:58] Episode: 8, Reward1: 14.0, Reward2: 14.0\n",
      "I0412 13:31:04.853662 139784017590080 <ipython-input-8-380d312fca9c>:58] Episode: 9, Reward1: 7.0, Reward2: 16.0\n",
      "I0412 13:31:21.816981 139784017590080 <ipython-input-8-380d312fca9c>:58] Episode: 10, Reward1: 7.0, Reward2: 17.0\n",
      "I0412 13:31:38.618525 139784017590080 <ipython-input-8-380d312fca9c>:58] Episode: 11, Reward1: 15.0, Reward2: 10.0\n",
      "I0412 13:31:55.406556 139784017590080 <ipython-input-8-380d312fca9c>:58] Episode: 12, Reward1: 4.0, Reward2: 11.0\n",
      "I0412 13:32:12.320686 139784017590080 <ipython-input-8-380d312fca9c>:58] Episode: 13, Reward1: 22.0, Reward2: 17.0\n",
      "I0412 13:32:29.133651 139784017590080 <ipython-input-8-380d312fca9c>:58] Episode: 14, Reward1: 28.0, Reward2: 18.0\n",
      "I0412 13:32:45.706893 139784017590080 <ipython-input-8-380d312fca9c>:58] Episode: 15, Reward1: 14.0, Reward2: 10.0\n",
      "I0412 13:33:02.309620 139784017590080 <ipython-input-8-380d312fca9c>:58] Episode: 16, Reward1: 10.0, Reward2: 13.0\n",
      "I0412 13:33:19.084950 139784017590080 <ipython-input-8-380d312fca9c>:58] Episode: 17, Reward1: 8.0, Reward2: 5.0\n",
      "I0412 13:33:35.912109 139784017590080 <ipython-input-8-380d312fca9c>:58] Episode: 18, Reward1: 10.0, Reward2: 2.0\n",
      "I0412 13:33:52.633204 139784017590080 <ipython-input-8-380d312fca9c>:58] Episode: 19, Reward1: 10.0, Reward2: 14.0\n",
      "I0412 13:34:09.870630 139784017590080 <ipython-input-8-380d312fca9c>:58] Episode: 20, Reward1: 11.0, Reward2: 7.0\n",
      "I0412 13:34:27.538992 139784017590080 <ipython-input-8-380d312fca9c>:58] Episode: 21, Reward1: 25.0, Reward2: 14.0\n",
      "I0412 13:34:44.457544 139784017590080 <ipython-input-8-380d312fca9c>:58] Episode: 22, Reward1: 18.0, Reward2: 18.0\n",
      "I0412 13:35:01.219719 139784017590080 <ipython-input-8-380d312fca9c>:58] Episode: 23, Reward1: 14.0, Reward2: 16.0\n",
      "I0412 13:35:18.061857 139784017590080 <ipython-input-8-380d312fca9c>:58] Episode: 24, Reward1: 7.0, Reward2: 6.0\n",
      "I0412 13:35:34.838988 139784017590080 <ipython-input-8-380d312fca9c>:58] Episode: 25, Reward1: 13.0, Reward2: 8.0\n",
      "I0412 13:35:51.700799 139784017590080 <ipython-input-8-380d312fca9c>:58] Episode: 26, Reward1: 11.0, Reward2: 6.0\n",
      "I0412 13:36:08.900076 139784017590080 <ipython-input-8-380d312fca9c>:58] Episode: 27, Reward1: 6.0, Reward2: 12.0\n",
      "I0412 13:36:27.003700 139784017590080 <ipython-input-8-380d312fca9c>:58] Episode: 28, Reward1: 8.0, Reward2: 13.0\n",
      "I0412 13:36:44.722342 139784017590080 <ipython-input-8-380d312fca9c>:58] Episode: 29, Reward1: 17.0, Reward2: 18.0\n",
      "I0412 13:37:02.223598 139784017590080 <ipython-input-8-380d312fca9c>:58] Episode: 30, Reward1: 8.0, Reward2: 8.0\n",
      "I0412 13:37:18.917058 139784017590080 <ipython-input-8-380d312fca9c>:58] Episode: 31, Reward1: 12.0, Reward2: 7.0\n",
      "I0412 13:37:35.512848 139784017590080 <ipython-input-8-380d312fca9c>:58] Episode: 32, Reward1: 2.0, Reward2: 4.0\n",
      "I0412 13:37:52.589423 139784017590080 <ipython-input-8-380d312fca9c>:58] Episode: 33, Reward1: 9.0, Reward2: 8.0\n",
      "I0412 13:38:09.248541 139784017590080 <ipython-input-8-380d312fca9c>:58] Episode: 34, Reward1: 10.0, Reward2: 8.0\n",
      "I0412 13:38:26.039305 139784017590080 <ipython-input-8-380d312fca9c>:58] Episode: 35, Reward1: 14.0, Reward2: 14.0\n",
      "I0412 13:38:43.561899 139784017590080 <ipython-input-8-380d312fca9c>:58] Episode: 36, Reward1: 10.0, Reward2: 10.0\n",
      "I0412 13:39:00.633547 139784017590080 <ipython-input-8-380d312fca9c>:58] Episode: 37, Reward1: 10.0, Reward2: 10.0\n",
      "I0412 13:39:17.353580 139784017590080 <ipython-input-8-380d312fca9c>:58] Episode: 38, Reward1: 16.0, Reward2: 12.0\n",
      "I0412 13:39:34.780414 139784017590080 <ipython-input-8-380d312fca9c>:58] Episode: 39, Reward1: 12.0, Reward2: 10.0\n",
      "I0412 13:39:52.301112 139784017590080 <ipython-input-8-380d312fca9c>:58] Episode: 40, Reward1: 16.0, Reward2: 14.0\n",
      "I0412 13:40:09.184752 139784017590080 <ipython-input-8-380d312fca9c>:58] Episode: 41, Reward1: 7.0, Reward2: 9.0\n",
      "I0412 13:40:25.741388 139784017590080 <ipython-input-8-380d312fca9c>:58] Episode: 42, Reward1: 14.0, Reward2: 17.0\n",
      "I0412 13:40:42.732032 139784017590080 <ipython-input-8-380d312fca9c>:58] Episode: 43, Reward1: 4.0, Reward2: 8.0\n",
      "I0412 13:40:59.483584 139784017590080 <ipython-input-8-380d312fca9c>:58] Episode: 44, Reward1: 12.0, Reward2: 12.0\n",
      "I0412 13:41:16.374623 139784017590080 <ipython-input-8-380d312fca9c>:58] Episode: 45, Reward1: 10.0, Reward2: 8.0\n",
      "I0412 13:41:33.073028 139784017590080 <ipython-input-8-380d312fca9c>:58] Episode: 46, Reward1: 8.0, Reward2: 7.0\n",
      "I0412 13:41:50.056638 139784017590080 <ipython-input-8-380d312fca9c>:58] Episode: 47, Reward1: 9.0, Reward2: 5.0\n",
      "I0412 13:42:08.210772 139784017590080 <ipython-input-8-380d312fca9c>:58] Episode: 48, Reward1: 6.0, Reward2: 6.0\n",
      "I0412 13:42:26.003149 139784017590080 <ipython-input-8-380d312fca9c>:58] Episode: 49, Reward1: 13.0, Reward2: 10.0\n",
      "I0412 13:42:43.378194 139784017590080 <ipython-input-8-380d312fca9c>:58] Episode: 50, Reward1: 16.0, Reward2: 10.0\n"
     ]
    },
    {
     "name": "stdout",
     "output_type": "stream",
     "text": [
      "Finished training.\n"
     ]
    }
   ],
   "source": [
    "# set to logging.WARNING to disable logs or logging.DEBUG to see losses as well\n",
    "logging.getLogger().setLevel(logging.INFO)\n",
    "\n",
    "rewards1_history, rewards2_history = agent.train(env)\n",
    "print(\"Finished training.\")"
   ]
  },
  {
   "cell_type": "markdown",
   "metadata": {},
   "source": [
    "## 5. Test on the trained model (for both agents to fight against each other) in 1 episode\n",
    "\n",
    "Test on trained model:"
   ]
  },
  {
   "cell_type": "code",
   "execution_count": 11,
   "metadata": {
    "scrolled": false
   },
   "outputs": [
    {
     "name": "stdout",
     "output_type": "stream",
     "text": [
      "[16 13]\n"
     ]
    }
   ],
   "source": [
    "print(agent.test(env))"
   ]
  },
  {
   "cell_type": "markdown",
   "metadata": {},
   "source": [
    "## 6. Plot the Rewards against the Episodes\n",
    "\n",
    "Plot Rewards against Episodes"
   ]
  },
  {
   "cell_type": "code",
   "execution_count": 12,
   "metadata": {
    "scrolled": true
   },
   "outputs": [
    {
     "data": {
      "image/png": "[encoded data removed]",
      "text/plain": [
       "<Figure size 576x396 with 1 Axes>"
      ]
     },
     "metadata": {},
     "output_type": "display_data"
    }
   ],
   "source": [
    "plt.style.use('seaborn')\n",
    "plt.plot(range(len(rewards1_history)), rewards1_history)\n",
    "plt.plot(range(len(rewards2_history)), rewards2_history)\n",
    "plt.xlabel('Episode')\n",
    "plt.ylabel('Total Reward')\n",
    "plt.show()"
   ]
  },
  {
   "cell_type": "code",
   "execution_count": null,
   "metadata": {},
   "outputs": [],
   "source": []
  }
 ],
 "metadata": {
  "kernelspec": {
   "display_name": "Python 3",
   "language": "python",
   "name": "python3"
  },
  "language_info": {
   "codemirror_mode": {
    "name": "ipython",
    "version": 3
   },
   "file_extension": ".py",
   "mimetype": "text/x-python",
   "name": "python",
   "nbconvert_exporter": "python",
   "pygments_lexer": "ipython3",
   "version": "3.6.5"
  }
 },
 "nbformat": 4,
 "nbformat_minor": 2
}
