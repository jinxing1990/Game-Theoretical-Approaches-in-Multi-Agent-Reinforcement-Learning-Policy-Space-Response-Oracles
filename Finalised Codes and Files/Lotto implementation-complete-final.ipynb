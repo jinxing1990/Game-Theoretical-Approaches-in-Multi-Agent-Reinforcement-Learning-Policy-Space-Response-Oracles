{
 "cells": [
  {
   "cell_type": "markdown",
   "metadata": {},
   "source": [
    "# Differentiable Lotto Implementation\n",
    "(based on the \"Open-ended Learning in Symmetric Zero-sum Games\" paper)"
   ]
  },
  {
   "cell_type": "markdown",
   "metadata": {},
   "source": [
    "## 1. Introduction\n",
    "\n",
    "\n",
    "**Differentiable Lotto** is inspired by continuous Lotto (Hart, S. Discrete Colonel Blotto and General Lotto games. Int J Game Theory, 36:441–460, 2008.). The game is defined over a fixed set $C$ of $c$ 'customers', each being a point in $\\mathbb{R}^2$. An agent’s strategy $(p, v) = \\{(p_1,v_1), ... , (p_k,v_k)\\}$, distributes one unit of mass over $k$ servers, where each server is a point $v_i \\in \\mathbb{R}^2$. Roughly, given the strategies of two players, $(p,v)$, $(q,w)$, customers are softly assigned to the nearest servers, determining the agents’ payoffs.\n",
    "\n",
    "More formally, the payoff is\n",
    "\n",
    "$$\n",
    "\\phi((p,v), (q,w)) := \\sum_{i,j=1}^{c,k} (p_j v_{ij} - q_j w_{ij}),$$\n",
    "\n",
    "where the scalars $v_{ij}$ and $w_{ij}$ depend on the distance between customer $i$ and the servers:\n",
    "\n",
    "$$(v_{i1}, ... , w_{ik}) := softmax(-||c_i - v_1||^2, ... , -||c_i - w_k||^2),$$\n",
    "\n",
    "where $c_i$ is the coordinate of customer $i$.\n",
    "\n",
    "The width of a cloud of points is the expected distance from the barycenter. We impose agents to have width equal one. We use gradient ascent as our oracle.\n",
    "\n",
    "For this implmentation,\n",
    "\n",
    "- $c = 9$ customers chosen uniformly at random in the square $[-1,1]^2$\n",
    "- $k = 2$ servers\n",
    "- $n = 500$ games"
   ]
  },
  {
   "cell_type": "markdown",
   "metadata": {},
   "source": [
    "## 2. Code Implementation of the game"
   ]
  },
  {
   "cell_type": "markdown",
   "metadata": {},
   "source": [
    "### 2.0 Importing all necessary packages"
   ]
  },
  {
   "cell_type": "code",
   "execution_count": 2,
   "metadata": {},
   "outputs": [],
   "source": [
    "import numpy as np\n",
    "from random import randint\n",
    "from scipy.optimize import linprog\n",
    "import pickle\n",
    "import matplotlib\n",
    "import matplotlib.pyplot as plt"
   ]
  },
  {
   "cell_type": "markdown",
   "metadata": {},
   "source": [
    "----------------"
   ]
  },
  {
   "cell_type": "markdown",
   "metadata": {},
   "source": [
    "### 2.1 Initialization of initial strategies and fixed c customers"
   ]
  },
  {
   "cell_type": "markdown",
   "metadata": {},
   "source": [
    "*random_point(lb = -1, ub = 1, n = 2)*:\n",
    "- Input: Lower bound (lb), upper bound (ub) of each coordinate in $\\mathbb{R}^n$ space\n",
    "- Output: random point within the space"
   ]
  },
  {
   "cell_type": "code",
   "execution_count": 2,
   "metadata": {},
   "outputs": [],
   "source": [
    "def random_point(lb = -9999, ub = 1, n = 2):\n",
    "    point = np.zeros((n,))\n",
    "    for i in range(n):\n",
    "        point[i] = np.random.uniform(lb, ub)\n",
    "    return point"
   ]
  },
  {
   "cell_type": "code",
   "execution_count": 3,
   "metadata": {},
   "outputs": [
    {
     "data": {
      "text/plain": [
       "array([-8208.76741583, -6061.49825156])"
      ]
     },
     "execution_count": 3,
     "metadata": {},
     "output_type": "execute_result"
    }
   ],
   "source": [
    "random_point()"
   ]
  },
  {
   "cell_type": "markdown",
   "metadata": {},
   "source": [
    "*random_points_list(lb = -1, ub = 1, n = 2, k = 2)*:\n",
    "- Input: $k$ number of points with lower bound (lb), upper bound (ub) of each coordinate in $\\mathbb{R}^n$ space\n",
    "- Output: list of $k$ random points within the space"
   ]
  },
  {
   "cell_type": "code",
   "execution_count": 4,
   "metadata": {},
   "outputs": [],
   "source": [
    "def random_points_list(lb = -1, ub = 1, n = 2, k = 9):\n",
    "    points_list = []\n",
    "    for i in range(k):\n",
    "        points_list.append(random_point(lb,ub,n))\n",
    "    points_list = np.asarray(points_list)\n",
    "    return points_list"
   ]
  },
  {
   "cell_type": "code",
   "execution_count": null,
   "metadata": {},
   "outputs": [],
   "source": [
    "random_points_list(k=9)"
   ]
  },
  {
   "cell_type": "markdown",
   "metadata": {},
   "source": [
    "*prob_dist(k = 2)*:\n",
    "- Input: $k$\n",
    "- Output: $k$ numbers that sum up to 1"
   ]
  },
  {
   "cell_type": "code",
   "execution_count": 6,
   "metadata": {},
   "outputs": [],
   "source": [
    "def prob_dist(k = 3):\n",
    "    pd = np.random.uniform(0,1,k)\n",
    "    total = np.sum(pd)\n",
    "    pd = pd/total\n",
    "    return pd.reshape(-1,1)"
   ]
  },
  {
   "cell_type": "code",
   "execution_count": 7,
   "metadata": {},
   "outputs": [
    {
     "data": {
      "text/plain": [
       "array([[0.17583223],\n",
       "       [0.55982887],\n",
       "       [0.2643389 ]])"
      ]
     },
     "execution_count": 7,
     "metadata": {},
     "output_type": "execute_result"
    }
   ],
   "source": [
    "prob_dist(k=3)"
   ]
  },
  {
   "cell_type": "markdown",
   "metadata": {},
   "source": [
    "*initialise_strategy(lb = -1, ub = 1, n = 2, k = 2)*:\n",
    "- Input: $k$ number of points with lower bound (lb), upper bound (ub) of each coordinate in $\\mathbb{R}^n$ space\n",
    "- Output: p_vector (distribution of k points) and v_vector (k points in $\\mathbb{R}^n$)"
   ]
  },
  {
   "cell_type": "code",
   "execution_count": 8,
   "metadata": {},
   "outputs": [],
   "source": [
    "def initialise_strategy(lb = -1, ub = 1, n = 2, k = 3):\n",
    "    v_vector = random_points_list(lb, ub, n, k)\n",
    "    p_vector = prob_dist(k)\n",
    "    return [p_vector, v_vector]"
   ]
  },
  {
   "cell_type": "code",
   "execution_count": null,
   "metadata": {
    "scrolled": true
   },
   "outputs": [],
   "source": [
    "initialise_strategy(lb = -1, ub = 1, n = 2, k = 3)"
   ]
  },
  {
   "cell_type": "markdown",
   "metadata": {},
   "source": [
    "Take for example: Generate 2 players' strategies: (p,v) and (q,w) with k = 2 servers each. c = 9 Customers in $[-1,1]^2$ space"
   ]
  },
  {
   "cell_type": "code",
   "execution_count": null,
   "metadata": {
    "scrolled": false
   },
   "outputs": [],
   "source": [
    "[p,v] = initialise_strategy(lb = -1, ub = 1, n = 2, k = 2)\n",
    "C = random_points_list(lb=-1, ub=1, n=2, k = 9)\n",
    "print(\"Player's strategies distribution: \" + np.array2string(p) + \" with servers at \" + np.array2string(v) + \".\")\n",
    "print(\"The customers are located at \" + np.array2string(C) + \".\")"
   ]
  },
  {
   "cell_type": "markdown",
   "metadata": {},
   "source": [
    "------------------"
   ]
  },
  {
   "cell_type": "markdown",
   "metadata": {},
   "source": [
    "### 2.2 Necessary functions for PSRO algorithm"
   ]
  },
  {
   "cell_type": "markdown",
   "metadata": {},
   "source": [
    "*Nash_eq(A)*:\n",
    "- Input: matrix A of a population\n",
    "- Output: Nash equilibrium p"
   ]
  },
  {
   "cell_type": "code",
   "execution_count": 11,
   "metadata": {},
   "outputs": [],
   "source": [
    "def Nash_eq(A):\n",
    "    '''Input: matrix A of a population\n",
    "       Output: Nash equilibrium\n",
    "       Note that A need to be antisymmetric for this function to generate the right Nash p'''\n",
    "    n = A.shape[0]\n",
    "    A_ub = -A.T\n",
    "    b_ub = np.zeros((n,))\n",
    "    A_eq = np.ones((1,n))\n",
    "    b_eq = 1\n",
    "    soln = linprog(c = np.zeros((n,)), A_ub = A_ub, b_ub = b_ub, A_eq = A_eq, b_eq = b_eq, bounds = (0,1),method='interior-point')\n",
    "    return soln.x"
   ]
  },
  {
   "cell_type": "markdown",
   "metadata": {},
   "source": [
    "RPS example:"
   ]
  },
  {
   "cell_type": "code",
   "execution_count": 12,
   "metadata": {},
   "outputs": [
    {
     "name": "stdout",
     "output_type": "stream",
     "text": [
      "[0.33333333 0.33333333 0.33333333]\n"
     ]
    },
    {
     "name": "stderr",
     "output_type": "stream",
     "text": [
      "C:\\Users\\jinxi\\Anaconda3\\lib\\site-packages\\scipy\\optimize\\_linprog_ip.py:1262: OptimizeWarning: Solving system with option 'sym_pos':True failed. It is normal for this to happen occasionally, especially as the solution is approached. However, if you see this frequently, consider setting option 'sym_pos' to False.\n",
      "  OptimizeWarning)\n",
      "C:\\Users\\jinxi\\Anaconda3\\lib\\site-packages\\scipy\\optimize\\_linprog_ip.py:1274: OptimizeWarning: Solving system with option 'sym_pos':False failed. This may happen occasionally, especially as the solution is approached. However, if you see this frequently, your problem may be numerically challenging. If you cannot improve the formulation, consider setting 'lstsq' to True. Consider also setting `presolve` to True, if it is not already.\n",
      "  OptimizeWarning)\n"
     ]
    }
   ],
   "source": [
    "A = np.array([[0,1,-1],[-1,0,1],[1,-1,0]])\n",
    "print(Nash_eq(A))"
   ]
  },
  {
   "cell_type": "markdown",
   "metadata": {},
   "source": [
    "*eval_matrix_1pop(popn)*:\n",
    "- Input: list of strategies from 1 population of strategies where each strategy = $[p^i,v^i]$\n",
    "- Output: evaluation matrix A (as described in Section 2 of the paper)"
   ]
  },
  {
   "cell_type": "code",
   "execution_count": 13,
   "metadata": {},
   "outputs": [],
   "source": [
    "def eval_matrix_1pop(popn, C, k, c):\n",
    "    '''Input: 1 population of strategies\n",
    "       Output: evaluation matrix of that population'''\n",
    "    n = len(popn)\n",
    "    matrix = np.zeros((n,n))\n",
    "    for i in range(n):\n",
    "        for j in range(n):\n",
    "            p = popn[i][0]\n",
    "            v = popn[i][1]\n",
    "            q = popn[j][0]\n",
    "            w = popn[j][1]\n",
    "            soft_v, soft_w, dist_v, dist_w = softmax_fn(v,w,C,k,c)\n",
    "            matrix[i][j] = payoff(p, soft_v, q, soft_w)\n",
    "    return matrix"
   ]
  },
  {
   "cell_type": "markdown",
   "metadata": {},
   "source": [
    "*eval_matrix_2pop(popn)*:\n",
    "- Input: lists of strategies from 2 population of strategies where each strategy = $[p^i,v^i]$ (no. of strategies from population A can differ from population B's)\n",
    "- Output: evaluation matrix A (as described in Section 2 of the paper)"
   ]
  },
  {
   "cell_type": "code",
   "execution_count": 14,
   "metadata": {},
   "outputs": [],
   "source": [
    "# def eval_matrix_2pop(popn1,popn2):\n",
    "#     '''Input: 2 population of strategies\n",
    "#        Output: evaluation matrix of those 2 populations'''\n",
    "#     n = len(popn1)\n",
    "#     m = len(popn2)\n",
    "#     matrix = np.zeros((n,m))\n",
    "#     for i in range(n):\n",
    "#         for j in range(m):\n",
    "#             matrix[i][j] = payoff(popn1[i],popn2[j])\n",
    "#     return matrix"
   ]
  },
  {
   "cell_type": "code",
   "execution_count": 15,
   "metadata": {},
   "outputs": [],
   "source": [
    "def softmax_fn(v,w,C,k,c):\n",
    "    dist_v=np.zeros((c,k));\n",
    "    dist_w=np.zeros((c,k));\n",
    "    soft_v=np.zeros((c,k));\n",
    "    soft_w=np.zeros((c,k));\n",
    "    for i in range(c):\n",
    "        for j in range(k):\n",
    "            dist_v[i][j]=np.exp(-np.linalg.norm(C[i,:]-v[j,:])**2)\n",
    "            dist_w[i][j]=np.exp(-np.linalg.norm(C[i,:]-w[j,:])**2)\n",
    "        soft_v[i,:]=dist_v[i,:]/(np.sum(dist_v[i,:])+np.sum(dist_w[i,:]));\n",
    "        soft_w[i,:]=dist_w[i,:]/(np.sum(dist_v[i,:])+np.sum(dist_w[i,:]));\n",
    "    return soft_v,soft_w,dist_v,dist_w     "
   ]
  },
  {
   "cell_type": "code",
   "execution_count": 16,
   "metadata": {},
   "outputs": [],
   "source": [
    "def transform(strategy):\n",
    "    new_p = strategy[0]\n",
    "    p1 = new_p[0]\n",
    "    p2 = new_p[1]\n",
    "    v1 = strategy[1][0]\n",
    "    v2 = strategy[1][1]\n",
    "    b = p1*v1 + p2*v2\n",
    "    c1 = v1 - b\n",
    "    c2 = v2 - b\n",
    "    final_a1 = 0\n",
    "    final_a2 = 0\n",
    "    a2_1 = (2 -(c1+c2))/(1-p2/p1)\n",
    "    a1_1 = (-p2/p1)*a2_1\n",
    "    a2_2 = -(2 + (c1-c2))/(1+p2/p1)\n",
    "    a1_2 = (-p2/p1)*a2_2\n",
    "    a2_3 = (2+(c2-c1))/(1+p2/p1)\n",
    "    a1_3 = (-p2/p1)*a2_3\n",
    "    a2_4 = (c1+c2-2)/(1-p2/p1)\n",
    "    a1_4 = (-p2/p1)*a2_4\n",
    "    if a1_1 > c1 and a2_1 > c2:\n",
    "        final_a1 = a1_1\n",
    "        final_a2 = a2_1\n",
    "    elif a1_2 > c1 and a2_2 < c2:\n",
    "        final_a1 = a1_2\n",
    "        final_a2 = a2_2\n",
    "    elif a1_3 < c1 and a2_3 > c2:\n",
    "        final_a1 = a1_3\n",
    "        final_a2 = a2_3\n",
    "    else:\n",
    "        final_a1 = a1_4\n",
    "        final_a2 = a2_4\n",
    "    new_v1 = v1 - final_a1\n",
    "    new_v2 = v2 - final_a2\n",
    "    new_v = np.array([new_v1,new_v2])\n",
    "    new_strategy = [new_p, new_v]\n",
    "    return new_strategy"
   ]
  },
  {
   "cell_type": "code",
   "execution_count": 17,
   "metadata": {},
   "outputs": [],
   "source": [
    "def payoff(p,soft_v,q,soft_w):\n",
    "    payoff=np.sum(np.dot(soft_v,p)-np.dot(soft_w,q))\n",
    "    return payoff"
   ]
  },
  {
   "cell_type": "code",
   "execution_count": 18,
   "metadata": {},
   "outputs": [],
   "source": [
    "def oracle(popn,nash_p,A,eta,C,k,c):\n",
    "    new_agents = []\n",
    "    for i in range(len(popn)):\n",
    "        if(nash_p[i]>0):\n",
    "            curr_agent_p=popn[-1][0].reshape(k,1);\n",
    "            curr_agent_v=popn[-1][1];\n",
    "            curr_agent_idx=i;\n",
    "            next_agent_p=curr_agent_p+eta*gradient_p(popn,nash_p,A,curr_agent_idx,curr_agent_v,C,k,c);\n",
    "            next_agent_p = next_agent_p/np.sum(next_agent_p)\n",
    "            next_agent_v=curr_agent_v+eta*gradient_v(popn,nash_p,A,curr_agent_idx,curr_agent_p,curr_agent_v,C,k,c);\n",
    "            new_agents.append([next_agent_p,next_agent_v])\n",
    "    #print(gradient_v(popn,nash_p,curr_agent_p,curr_agent_v,C,k,c))\n",
    "    return new_agents"
   ]
  },
  {
   "cell_type": "code",
   "execution_count": 19,
   "metadata": {},
   "outputs": [],
   "source": [
    "def gradient_p(popn,nash_p,A,curr_agent_idx,agent_v,C,k,c):\n",
    "    sum_vec=np.zeros((k,1));\n",
    "    for i in range(len(popn)):\n",
    "        if (A[curr_agent_idx][i]>=0):\n",
    "            temp_agent_p=popn[i][0].reshape(k,1);\n",
    "            temp_agent_v=popn[i][1];\n",
    "            temp_v,temp_w,tempdist_v,tempdist_w=softmax_fn(agent_v,temp_agent_v,C,k,c);\n",
    "            val_grad=np.sum(temp_v,axis=0).reshape(k,1) #sum the rows\n",
    "            sum_vec=sum_vec+nash_p[i]*val_grad; #multiply w.r.t Nash p.\n",
    "        \n",
    "    return sum_vec; "
   ]
  },
  {
   "cell_type": "code",
   "execution_count": 30,
   "metadata": {},
   "outputs": [],
   "source": [
    "def gradient_v(popn,nash_p,A,curr_agent_idx,agent_p,agent_v,C,k,c): #agent_p, agent_v are strategies of the current agent \"v_t of popn B_t\"\n",
    "    sum_mat=np.zeros((k,3));\n",
    "    for i in range(len(popn)):\n",
    "        if (A[curr_agent_idx][i]>=0):\n",
    "            temp_agent_p=popn[i][0].reshape(k,1);\n",
    "            temp_agent_v=popn[i][1];\n",
    "            temp_v,temp_w,tempdist_v,tempdist_w=softmax_fn(agent_v,temp_agent_v,C,k,c);\n",
    "            val_grad_mat=calc_gradient_matrix(agent_p,agent_v,temp_agent_p,temp_agent_v,temp_v,temp_w,tempdist_v,tempdist_w,C,k,c) #sum the rows\n",
    "        #To add the remaining parameters to calc_gradient_matrix function-See below.\n",
    "            sum_mat=sum_mat+nash_p[i]*val_grad_mat; #multiply w.r.t Nash p.\n",
    "        \n",
    "    return sum_mat"
   ]
  },
  {
   "cell_type": "code",
   "execution_count": 29,
   "metadata": {},
   "outputs": [],
   "source": [
    "def calc_gradient_matrix(agent_p,agent_v,temp_agent_p,temp_agent_v,temp_v,temp_w,tempdist_v,tempdist_w,C,k,c):\n",
    "    #agent_p - p vector of agent v_t\n",
    "    #temp_agent_q- q vector of the \"current opposition agent\"\n",
    "    #W- location matrix of \"current opposition agent\"\n",
    "    #V- location matrix of agent v_t\n",
    "    grad_mat=np.zeros((k,3));\n",
    "    V=agent_v;\n",
    "    W=temp_agent_v;\n",
    "    for j in range(k):\n",
    "        S_v=0;\n",
    "        S_w=0;\n",
    "        for i in range(c):\n",
    "            for l in range(k):\n",
    "                v_loc=V[j,:];\n",
    "                S_v=S_v+agent_p[j]*grad_payoff(v_loc,j,l,1,i,temp_v,temp_w,tempdist_v,tempdist_w,C,k,c);\n",
    "                S_w=S_w+temp_agent_p[j]*grad_payoff(v_loc,j,l,0,i,temp_v,temp_w,tempdist_v,tempdist_w,C,k,c);\n",
    "        \n",
    "         \n",
    "        grad_mat[j,:]=S_v-S_w;  \n",
    "      \n",
    "    return grad_mat    "
   ]
  },
  {
   "cell_type": "code",
   "execution_count": 22,
   "metadata": {},
   "outputs": [],
   "source": [
    "def grad_payoff(v_loc,v_loc_idx,w_loc_idx,agent_bool,c_idx,temp_v,temp_w,dist_v,dist_w,C,k,c): #Gradient with respect to v_loc a location strategy of agent v.\n",
    "    \n",
    "    if(agent_bool==1): #Differentiating agent_v\n",
    "        \n",
    "        if(v_loc_idx==w_loc_idx):\n",
    "            grad=(2*(C[c_idx,:]-v_loc)*dist_v[c_idx,v_loc_idx]*(np.sum(dist_v[c_idx,:])+np.sum(dist_w[c_idx,:])-dist_v[c_idx,v_loc_idx]))/(np.sum(dist_v[c_idx,:])+np.sum(dist_w[c_idx,:]))**2\n",
    "        else:\n",
    "            grad=(-2*(C[c_idx,:]-v_loc)*dist_v[c_idx,v_loc_idx]*dist_v[c_idx,w_loc_idx])/(np.sum(dist_v[c_idx,:])+np.sum(dist_w[c_idx,:]))**2\n",
    "    \n",
    "    else:\n",
    "#         if(v_loc_idx==w_loc_idx): #Differentiating agent_w\n",
    "#             grad=(2*(C[c_idx,:]-v_loc)*dist_v[c_idx,v_loc_idx]*(np.sum(dist_v[c_idx,:])+np.sum(dist_w[c_idx,:])-dist_w[c_idx,v_loc_idx]))/(np.sum(dist_v[c_idx,:])+np.sum(dist_w[c_idx,:]))**2\n",
    "#         else:\n",
    "        grad=(-2*(C[c_idx,:]-v_loc)*dist_v[c_idx,v_loc_idx]*dist_w[c_idx,w_loc_idx])/(np.sum(dist_v[c_idx,:])+np.sum(dist_w[c_idx,:]))**2   \n",
    "    \n",
    "    return grad    "
   ]
  },
  {
   "cell_type": "markdown",
   "metadata": {},
   "source": [
    "-----------------"
   ]
  },
  {
   "cell_type": "markdown",
   "metadata": {},
   "source": [
    "### 2.3 PSRO$_N$ and Self-play Implementation"
   ]
  },
  {
   "cell_type": "code",
   "execution_count": 23,
   "metadata": {},
   "outputs": [],
   "source": [
    "def PSRO_N(popn, C, k, c, eta = 1, epoch = 5):\n",
    "    strategies = popn\n",
    "    n = len(strategies)\n",
    "    for i in range(epoch):\n",
    "        A = eval_matrix_1pop(strategies, C, k, c)\n",
    "        nash_p = Nash_eq(A)\n",
    "        print(nash_p)\n",
    "        new_strategy_set = oracle(strategies,nash_p,A,eta,C,k,c)\n",
    "        strategies.extend(new_strategy_set)\n",
    "        n = n + 1\n",
    "        print(\"There are \" + str(n) + \" strategies in the population now.\")\n",
    "    return strategies"
   ]
  },
  {
   "cell_type": "code",
   "execution_count": 24,
   "metadata": {},
   "outputs": [],
   "source": [
    "def Self_play(popn, C, k, c, eta = 1, epoch = 5):\n",
    "    strategies =  popn\n",
    "    n = len(strategies)\n",
    "    for i in range(epoch):\n",
    "        nash_p = np.zeros((n,1))\n",
    "        nash_p[-1] = 1\n",
    "        print(nash_p)\n",
    "        new_p, new_v = oracle(strategies,nash_p,eta,C,k,c)\n",
    "        new_strategy = [new_p, new_v]\n",
    "        strategies.append(new_strategy)\n",
    "        n = n + 1\n",
    "        print(\"There are \" + str(n) + \" strategies in the population now.\")\n",
    "    return strategies"
   ]
  },
  {
   "cell_type": "markdown",
   "metadata": {},
   "source": [
    "--------------"
   ]
  },
  {
   "cell_type": "markdown",
   "metadata": {},
   "source": [
    "### 2.4 Population Performance Measures"
   ]
  },
  {
   "cell_type": "markdown",
   "metadata": {},
   "source": [
    "*rel_popn_perf(popn1, popn2)*:\n",
    "- Input: lists of strategies from 2 population of strategies where each strategy = $[p^i,v^i]$ (no. of strategies from population A can differ from population B's)\n",
    "- Output: relative population performance (defined in Definition 3 of Section 3.1 in th paper)"
   ]
  },
  {
   "cell_type": "code",
   "execution_count": 25,
   "metadata": {},
   "outputs": [],
   "source": [
    "def rel_popn_perf(popn1, popn2):\n",
    "    perf = 0\n",
    "    A_1 = eval_matrix_1pop(popn1)\n",
    "    A_2 = eval_matrix_1pop(popn2)\n",
    "    A_12 = eval_matrix_2pop(popn1,popn2)\n",
    "    p = Nash_eq(A_1).reshape(-1,1)\n",
    "    q = Nash_eq(A_2).reshape(-1,1)\n",
    "    perf = np.dot(np.dot(p.T,A_12),q)\n",
    "    return perf"
   ]
  },
  {
   "cell_type": "markdown",
   "metadata": {},
   "source": [
    "*eff_diversity(popn)*:\n",
    "- Input: list of strategies from 1 population of strategies where each strategy = $[p^i,v^i]$\n",
    "- Output: effective diversity of the population (defined in Definition 4 of Section 3.2 in the paper)"
   ]
  },
  {
   "cell_type": "code",
   "execution_count": 26,
   "metadata": {},
   "outputs": [],
   "source": [
    "def eff_diversity(popn):\n",
    "    d = 0\n",
    "    A = eval_matrix_1pop(popn)\n",
    "    p = Nash_eq(A).reshape(-1,1)\n",
    "    A_plus = np.clip(A,0,None)\n",
    "    d = np.dot(np.dot(p.T,A_plus),p)\n",
    "    return d"
   ]
  },
  {
   "cell_type": "markdown",
   "metadata": {},
   "source": [
    "--------------"
   ]
  },
  {
   "cell_type": "markdown",
   "metadata": {},
   "source": [
    "## 3. Running all implementations"
   ]
  },
  {
   "cell_type": "markdown",
   "metadata": {},
   "source": [
    "### 3.0 Initialisation of population and customers"
   ]
  },
  {
   "cell_type": "markdown",
   "metadata": {},
   "source": [
    "**NOTE: DO NOT RUN THE CODE BELOW!!!**\n",
    "--------\n",
    "\n",
    "----------"
   ]
  },
  {
   "cell_type": "code",
   "execution_count": null,
   "metadata": {
    "scrolled": true
   },
   "outputs": [],
   "source": [
    "lb = -1 #lower bound of the space\n",
    "ub = 1 #upper bound of the space\n",
    "n = 2 #dimension of the space\n",
    "c = 9 #number of customers\n",
    "\n",
    "strategy1_3s = initialise_strategy(lb, ub, n, k=3) # 1st strategy for 3 servers\n",
    "strategy1_9s = initialise_strategy(lb, ub, n, k=9) # 1st strategy for 9 servers\n",
    "strategy1_15s = initialise_strategy(lb, ub, n, k=15) # 1st strategy for 15 servers\n",
    "\n",
    "popn_3s = [strategy1_3s]\n",
    "popn_9s = [strategy1_9s]\n",
    "popn_15s = [strategy1_15s]\n",
    "\n",
    "C = random_points_list(lb, ub, n, k = c)\n",
    "\n",
    "initialisation = open('initialisation.pkl','wb')\n",
    "pickle.dump(popn_3s, initialisation)\n",
    "pickle.dump(popn_9s, initialisation)\n",
    "pickle.dump(popn_15s, initialisation)\n",
    "pickle.dump(C, initialisation)\n",
    "initialisation.close()"
   ]
  },
  {
   "cell_type": "code",
   "execution_count": null,
   "metadata": {},
   "outputs": [],
   "source": [
    "lb = -1 #lower bound of the space\n",
    "ub = 1 #upper bound of the space\n",
    "n = 3 #dimension of the space\n",
    "c = 1 #number of customers\n",
    "\n",
    "C = random_points_list(lb, ub, n, k = c)\n",
    "\n",
    "strategy1_3s = initialise_strategy(lb, ub, n, k=3)\n",
    "strategy2_3s = initialise_strategy(lb, ub, n, k=3)\n",
    "strategy3_3s = initialise_strategy(lb, ub, n, k=3)\n",
    "\n",
    "popn = [strategy1_3s, strategy2_3s, strategy3_3s]\n",
    "\n",
    "A = eval_matrix_1pop(popn, C, k=3, c=1)\n",
    "nash = Nash_eq(A)\n",
    "print(A)\n",
    "print(nash)"
   ]
  },
  {
   "cell_type": "code",
   "execution_count": null,
   "metadata": {},
   "outputs": [],
   "source": [
    "new_popn = PSRO_N(popn = popn, C = C, k=3, c = 1, eta = 1,epoch = 20)"
   ]
  },
  {
   "cell_type": "markdown",
   "metadata": {},
   "source": [
    "---------"
   ]
  },
  {
   "cell_type": "markdown",
   "metadata": {},
   "source": [
    "**JUST RUN THIS TO LOAD THE INITIAL POPULATIONS AND FIXED CUSTOMERS**\n",
    "----------"
   ]
  },
  {
   "cell_type": "code",
   "execution_count": null,
   "metadata": {},
   "outputs": [],
   "source": [
    "lb = -1 #lower bound of the space\n",
    "ub = 1 #upper bound of the space\n",
    "n = 2 #dimension of the space\n",
    "c = 9 #number of customers\n",
    "\n",
    "initialisation = open('initialisation.pkl', 'rb')\n",
    "popn_3s = pickle.load(initialisation)\n",
    "popn_9s = pickle.load(initialisation)\n",
    "popn_15s = pickle.load(initialisation)\n",
    "C = pickle.load(initialisation)\n",
    "initialisation.close()\n",
    "print(\"1st strategy for 3 servers:\")\n",
    "print(popn_3s)\n",
    "print(\"1st strategy for 9 servers:\")\n",
    "print(popn_9s)\n",
    "print(\"1st strategy for 15 servers:\")\n",
    "print(popn_15s)\n",
    "print(\"The fixed 9 customers are:\")\n",
    "print(C)"
   ]
  },
  {
   "cell_type": "markdown",
   "metadata": {},
   "source": [
    "----------"
   ]
  },
  {
   "cell_type": "markdown",
   "metadata": {},
   "source": [
    "### 3.1 Self-play"
   ]
  },
  {
   "cell_type": "markdown",
   "metadata": {},
   "source": [
    "**NOTE: DO NOT RUN THE CODE BELOW!!!**\n",
    "----------"
   ]
  },
  {
   "cell_type": "markdown",
   "metadata": {},
   "source": [
    "-------------"
   ]
  },
  {
   "cell_type": "code",
   "execution_count": null,
   "metadata": {},
   "outputs": [],
   "source": [
    "lb = -1 #lower bound of the space\n",
    "ub = 1 #upper bound of the space\n",
    "n = 2 #dimension of the space\n",
    "c = 9 #number of customers\n",
    "\n",
    "initialisation = open('initialisation.pkl', 'rb')\n",
    "popn_3s = pickle.load(initialisation)\n",
    "popn_9s = pickle.load(initialisation)\n",
    "popn_15s = pickle.load(initialisation)\n",
    "C = pickle.load(initialisation)\n",
    "initialisation.close()\n",
    "print(\"1st strategy for 3 servers:\")\n",
    "print(popn_3s)\n",
    "print(\"1st strategy for 9 servers:\")\n",
    "print(popn_9s)\n",
    "print(\"1st strategy for 15 servers:\")\n",
    "print(popn_15s)\n",
    "print(\"The fixed 9 customers are:\")\n",
    "print(C)"
   ]
  },
  {
   "cell_type": "code",
   "execution_count": null,
   "metadata": {},
   "outputs": [],
   "source": [
    "popn_self_play = open('popn_self_play.pkl','wb')"
   ]
  },
  {
   "cell_type": "code",
   "execution_count": null,
   "metadata": {
    "scrolled": true
   },
   "outputs": [],
   "source": [
    "popn_self_play_3s = Self_play(popn = popn_3s, C = C, k=3, c = 9, eta = 1,epoch = 100)\n",
    "pickle.dump(popn_self_play_3s, popn_self_play)"
   ]
  },
  {
   "cell_type": "code",
   "execution_count": null,
   "metadata": {},
   "outputs": [],
   "source": [
    "popn_self_play_9s = Self_play(popn = popn_9s, C = C, k=9, c = 9, eta = 1,epoch = 100)\n",
    "pickle.dump(popn_self_play_9s, popn_self_play)"
   ]
  },
  {
   "cell_type": "code",
   "execution_count": null,
   "metadata": {},
   "outputs": [],
   "source": [
    "popn_self_play_15s = Self_play(popn = popn_15s, C = C, k=15, c = 9, eta = 1,epoch = 100)\n",
    "pickle.dump(popn_self_play_15s, popn_self_play)"
   ]
  },
  {
   "cell_type": "code",
   "execution_count": null,
   "metadata": {
    "scrolled": true
   },
   "outputs": [],
   "source": [
    "popn_self_play.close()"
   ]
  },
  {
   "cell_type": "markdown",
   "metadata": {},
   "source": [
    "-------------"
   ]
  },
  {
   "cell_type": "markdown",
   "metadata": {},
   "source": [
    "**JUST RUN THIS TO LOAD THE STRATEGIES OF ALL SELF-PLAY POPULATIONS**\n",
    "----------"
   ]
  },
  {
   "cell_type": "code",
   "execution_count": null,
   "metadata": {},
   "outputs": [],
   "source": [
    "popn_self_play = open('popn_self_play.pkl', 'rb')\n",
    "popn_self_play_3s = pickle.load(popn_self_play)\n",
    "popn_self_play_9s = pickle.load(popn_self_play)\n",
    "popn_self_play_15s = pickle.load(popn_self_play)\n",
    "popn_self_play.close()\n",
    "print(len(popn_self_play_3s), len(popn_self_play_9s), len(popn_self_play_15s))\n",
    "print(\"Last strategy for 3 servers:\")\n",
    "print(popn_self_play_3s[-1])\n",
    "print(\"Last strategy for 9 servers:\")\n",
    "print(popn_self_play_9s[-1])\n",
    "print(\"Last strategy for 15 servers:\")\n",
    "print(popn_self_play_15s[-1])"
   ]
  },
  {
   "cell_type": "markdown",
   "metadata": {},
   "source": [
    "The following plots how the phi value change as a new strategy is trained for 100 epoch."
   ]
  },
  {
   "cell_type": "code",
   "execution_count": null,
   "metadata": {},
   "outputs": [],
   "source": [
    "phi_changes_3s = []\n",
    "for i in range(len(popn_self_play_3s)-1):\n",
    "    soft_v, soft_w, _, _ = softmax_fn(popn_self_play_3s[i+1][1],popn_self_play_3s[i][1],C,k=3,c=9)\n",
    "    phi = payoff(popn_self_play_3s[i+1][0],soft_v,popn_self_play_3s[i][0],soft_w) \n",
    "    phi_changes_3s.append(phi)"
   ]
  },
  {
   "cell_type": "code",
   "execution_count": null,
   "metadata": {
    "scrolled": true
   },
   "outputs": [],
   "source": [
    "plt.style.use('seaborn')\n",
    "plt.plot(range(len(phi_changes_3s)), phi_changes_3s)\n",
    "plt.xlabel('Epoch')\n",
    "plt.ylabel('Phi Value')\n",
    "plt.show()"
   ]
  },
  {
   "cell_type": "markdown",
   "metadata": {},
   "source": [
    "--------------------"
   ]
  },
  {
   "cell_type": "markdown",
   "metadata": {},
   "source": [
    "### 3.2 PSRO$_N$"
   ]
  },
  {
   "cell_type": "markdown",
   "metadata": {},
   "source": [
    "**NOTE: DO NOT RUN THE CODE BELOW!!!**\n",
    "----------"
   ]
  },
  {
   "cell_type": "markdown",
   "metadata": {},
   "source": [
    "-----------"
   ]
  },
  {
   "cell_type": "code",
   "execution_count": null,
   "metadata": {},
   "outputs": [],
   "source": [
    "lb = -1 #lower bound of the space\n",
    "ub = 1 #upper bound of the space\n",
    "n = 2 #dimension of the space\n",
    "c = 9 #number of customers\n",
    "\n",
    "initialisation = open('initialisation.pkl', 'rb')\n",
    "popn_3s = pickle.load(initialisation)\n",
    "popn_9s = pickle.load(initialisation)\n",
    "popn_15s = pickle.load(initialisation)\n",
    "C = pickle.load(initialisation)\n",
    "initialisation.close()\n",
    "print(\"1st strategy for 3 servers:\")\n",
    "print(popn_3s)\n",
    "print(\"1st strategy for 9 servers:\")\n",
    "print(popn_9s)\n",
    "print(\"1st strategy for 15 servers:\")\n",
    "print(popn_15s)\n",
    "print(\"The fixed 9 customers are:\")\n",
    "print(C)"
   ]
  },
  {
   "cell_type": "code",
   "execution_count": null,
   "metadata": {},
   "outputs": [],
   "source": [
    "popn_psro_n = open('popn_psro_n.pkl','wb')"
   ]
  },
  {
   "cell_type": "code",
   "execution_count": null,
   "metadata": {},
   "outputs": [],
   "source": [
    "popn_psro_n_3s = PSRO_N(popn = popn_3s, C = C, k=3, c = 50, eta = 1,epoch = 5)\n",
    "#pickle.dump(popn_psro_n_3s, popn_psro_n)"
   ]
  },
  {
   "cell_type": "code",
   "execution_count": null,
   "metadata": {
    "scrolled": true
   },
   "outputs": [],
   "source": [
    "popn_psro_n_3s[-5:]"
   ]
  },
  {
   "cell_type": "code",
   "execution_count": null,
   "metadata": {},
   "outputs": [],
   "source": [
    "popn_psro_n_9s = PSRO_N(popn = popn_9s, C = C, k=9, c = 9, eta = 1,epoch = 100)\n",
    "pickle.dump(popn_psro_n_9s, popn_psro_n)"
   ]
  },
  {
   "cell_type": "code",
   "execution_count": null,
   "metadata": {},
   "outputs": [],
   "source": [
    "popn_psro_n_15s = PSRO_N(popn = popn_15s, C = C, k=15, c = 9, eta = 1,epoch = 100)\n",
    "pickle.dump(popn_psro_n_15s, popn_psro_n)"
   ]
  },
  {
   "cell_type": "code",
   "execution_count": null,
   "metadata": {},
   "outputs": [],
   "source": [
    "popn_psro_n.close()"
   ]
  },
  {
   "cell_type": "markdown",
   "metadata": {},
   "source": [
    "------------"
   ]
  },
  {
   "cell_type": "markdown",
   "metadata": {},
   "source": [
    "**JUST RUN THIS TO LOAD THE STRATEGIES OF ALL PSRO$_N$ POPULATIONS**\n",
    "----------"
   ]
  },
  {
   "cell_type": "code",
   "execution_count": null,
   "metadata": {},
   "outputs": [],
   "source": [
    "lb = -1 #lower bound of the space\n",
    "ub = 1 #upper bound of the space\n",
    "n = 2 #dimension of the space\n",
    "c = 9 #number of customers\n",
    "\n",
    "initialisation = open('initialisation.pkl', 'rb')\n",
    "popn_3s = pickle.load(initialisation)\n",
    "popn_9s = pickle.load(initialisation)\n",
    "popn_15s = pickle.load(initialisation)\n",
    "C = pickle.load(initialisation)\n",
    "initialisation.close()\n",
    "print(\"1st strategy for 3 servers:\")\n",
    "print(popn_3s)\n",
    "print(\"1st strategy for 9 servers:\")\n",
    "print(popn_9s)\n",
    "print(\"1st strategy for 15 servers:\")\n",
    "print(popn_15s)\n",
    "print(\"The fixed 9 customers are:\")\n",
    "print(C)"
   ]
  },
  {
   "cell_type": "code",
   "execution_count": null,
   "metadata": {
    "scrolled": true
   },
   "outputs": [],
   "source": [
    "popn_psro_n = open('popn_psro_n.pkl', 'rb')\n",
    "popn_psro_n_3s = pickle.load(popn_psro_n)\n",
    "popn_psro_n_9s = pickle.load(popn_psro_n)\n",
    "popn_psro_n_15s = pickle.load(popn_psro_n)\n",
    "popn_psro_n.close()\n",
    "print(len(popn_psro_n_3s), len(popn_psro_n_9s), len(popn_psro_n_15s))\n",
    "print(\"Last strategy for 3 servers:\")\n",
    "print(popn_psro_n_3s[-1])\n",
    "print(\"Last strategy for 9 servers:\")\n",
    "print(popn_psro_n_9s[-1])\n",
    "print(\"Last strategy for 15 servers:\")\n",
    "print(popn_psro_n_15s[-1])"
   ]
  },
  {
   "cell_type": "code",
   "execution_count": 54,
   "metadata": {},
   "outputs": [
    {
     "data": {
      "image/png": "[encoded data removed]",
      "text/plain": [
       "<Figure size 432x288 with 1 Axes>"
      ]
     },
     "metadata": {},
     "output_type": "display_data"
    }
   ],
   "source": [
    "x = []\n",
    "for i in range(15):\n",
    "    x.append(popn_psro_n_15s[100][-1][i][0])\n",
    "\n",
    "y = []\n",
    "for i in range(15):\n",
    "    y.append(popn_psro_n_15s[100][-1][i][1])\n",
    "    \n",
    "x_c = []\n",
    "for i in range(len(C)):\n",
    "    x_c.append(C[i][0])\n",
    "\n",
    "y_c = []\n",
    "for i in range(len(C)):\n",
    "    y_c.append(C[i][1])\n",
    "\n",
    "plt.scatter(x_center,y_center,c='m')\n",
    "plt.scatter(x,y)\n",
    "#plt.scatter(x_f,y_f,c='g')\n",
    "plt.scatter(x_c,y_c,c='r')\n",
    "plt.title('Scatter plot')\n",
    "plt.xlabel('x')\n",
    "plt.ylabel('y')\n",
    "plt.show()"
   ]
  },
  {
   "cell_type": "code",
   "execution_count": 8,
   "metadata": {},
   "outputs": [
    {
     "name": "stdout",
     "output_type": "stream",
     "text": [
      "0.15294082961335842 0.02049134720967833\n"
     ]
    }
   ],
   "source": [
    "x_center = sum(x_c)/9\n",
    "y_center = sum(y_c)/9\n",
    "\n",
    "print(x_center,y_center)\n"
   ]
  },
  {
   "cell_type": "markdown",
   "metadata": {},
   "source": [
    "------------"
   ]
  }
 ],
 "metadata": {
  "kernelspec": {
   "display_name": "Python 3",
   "language": "python",
   "name": "python3"
  },
  "language_info": {
   "codemirror_mode": {
    "name": "ipython",
    "version": 3
   },
   "file_extension": ".py",
   "mimetype": "text/x-python",
   "name": "python",
   "nbconvert_exporter": "python",
   "pygments_lexer": "ipython3",
   "version": "3.6.5"
  }
 },
 "nbformat": 4,
 "nbformat_minor": 2
}
